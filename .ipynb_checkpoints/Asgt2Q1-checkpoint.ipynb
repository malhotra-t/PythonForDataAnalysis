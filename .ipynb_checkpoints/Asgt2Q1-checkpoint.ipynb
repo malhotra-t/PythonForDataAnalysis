{
 "cells": [
  {
   "cell_type": "markdown",
   "metadata": {},
   "source": [
    "## Q1 Learn and understand Zipf’s Law"
   ]
  },
  {
   "cell_type": "markdown",
   "metadata": {},
   "source": [
    "### Pick any file (or files) in NLTK package. Prove if Zipf’s Law works in Natural Language or not."
   ]
  },
  {
   "cell_type": "code",
   "execution_count": 23,
   "metadata": {
    "collapsed": true
   },
   "outputs": [],
   "source": [
    "from nltk.corpus import gutenberg\n",
    "import glob\n",
    "import collections\n",
    "import string\n",
    "import csv"
   ]
  },
  {
   "cell_type": "code",
   "execution_count": 16,
   "metadata": {
    "collapsed": false
   },
   "outputs": [
    {
     "data": {
      "text/plain": [
       "['C:/Users/parit/AppData/Roaming/nltk_data/corpora/gutenberg\\\\chesterton-ball.txt',\n",
       " 'C:/Users/parit/AppData/Roaming/nltk_data/corpora/gutenberg\\\\chesterton-brown.txt',\n",
       " 'C:/Users/parit/AppData/Roaming/nltk_data/corpora/gutenberg\\\\chesterton-thursday.txt']"
      ]
     },
     "execution_count": 16,
     "metadata": {},
     "output_type": "execute_result"
    }
   ],
   "source": [
    "path = glob.glob('C:/Users/parit/AppData/Roaming/nltk_data/corpora/gutenberg/chesterton*')\n",
    "path   #taking the gutenberg dataset - 3 chesterton books"
   ]
  },
  {
   "cell_type": "code",
   "execution_count": 21,
   "metadata": {
    "collapsed": false
   },
   "outputs": [],
   "source": [
    "chesWords = gutenberg.words(path)\n",
    "D = {}\n",
    "for word in chesWords:        #Getting the word count for the above 3 books\n",
    "    word = word.lower()\n",
    "    if word in D:\n",
    "        val = D[word]\n",
    "        val = val + 1\n",
    "        D[word] = val\n",
    "    else:\n",
    "        D[word] = 1\n",
    "sortedDict = collections.OrderedDict(sorted(D.items(), key=lambda t: t[1],reverse = True)) \n",
    "sortedList = list(sortedDict.items())   #Sorting the (word,wordCount) tuple based on the count"
   ]
  },
  {
   "cell_type": "code",
   "execution_count": 28,
   "metadata": {
    "collapsed": false
   },
   "outputs": [],
   "source": [
    "with open('chestertonWordRanks.csv', 'w', newline = '') as outputFile:  #Creating a csv file with 'write' permission\n",
    "    csvWriter = csv.writer(outputFile, delimiter = ',')\n",
    "    rank = 0\n",
    "    for wordCountTuple in sortedList:      #Calculating the word rank based on word count in the sorted list\n",
    "        rank = rank + 1\n",
    "        word = wordCountTuple[0]\n",
    "        count = wordCountTuple[1]\n",
    "        word = [c for c in word if c not in set(string.punctuation)]   #Removing all the punctuation marks\n",
    "        if word:\n",
    "            csvWriter.writerow((''.join(word), rank, count))\n"
   ]
  },
  {
   "cell_type": "code",
   "execution_count": null,
   "metadata": {
    "collapsed": true
   },
   "outputs": [],
   "source": []
  }
 ],
 "metadata": {
  "anaconda-cloud": {},
  "kernelspec": {
   "display_name": "Python [conda root]",
   "language": "python",
   "name": "conda-root-py"
  },
  "language_info": {
   "codemirror_mode": {
    "name": "ipython",
    "version": 3
   },
   "file_extension": ".py",
   "mimetype": "text/x-python",
   "name": "python",
   "nbconvert_exporter": "python",
   "pygments_lexer": "ipython3",
   "version": "3.5.2"
  }
 },
 "nbformat": 4,
 "nbformat_minor": 1
}
