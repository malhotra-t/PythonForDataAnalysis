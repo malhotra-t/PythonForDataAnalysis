{
 "cells": [
  {
   "cell_type": "markdown",
   "metadata": {},
   "source": [
    "## Q1 Find the unique words and the top 10 most frequent words with their frequency in hte file austen-persuasion.txt"
   ]
  },
  {
   "cell_type": "code",
   "execution_count": 2,
   "metadata": {
    "collapsed": false
   },
   "outputs": [],
   "source": [
    "from nltk.corpus import gutenberg"
   ]
  },
  {
   "cell_type": "markdown",
   "metadata": {},
   "source": [
    "### Under package Gutenberg, see what files are in it."
   ]
  },
  {
   "cell_type": "code",
   "execution_count": 23,
   "metadata": {
    "collapsed": false
   },
   "outputs": [
    {
     "name": "stdout",
     "output_type": "stream",
     "text": [
      "The files under package Gutenberg are listed below:\n",
      "\n"
     ]
    },
    {
     "data": {
      "text/plain": [
       "['austen-emma.txt',\n",
       " 'austen-persuasion.txt',\n",
       " 'austen-sense.txt',\n",
       " 'bible-kjv.txt',\n",
       " 'blake-poems.txt',\n",
       " 'bryant-stories.txt',\n",
       " 'burgess-busterbrown.txt',\n",
       " 'carroll-alice.txt',\n",
       " 'chesterton-ball.txt',\n",
       " 'chesterton-brown.txt',\n",
       " 'chesterton-thursday.txt',\n",
       " 'edgeworth-parents.txt',\n",
       " 'melville-moby_dick.txt',\n",
       " 'milton-paradise.txt',\n",
       " 'shakespeare-caesar.txt',\n",
       " 'shakespeare-hamlet.txt',\n",
       " 'shakespeare-macbeth.txt',\n",
       " 'whitman-leaves.txt']"
      ]
     },
     "execution_count": 23,
     "metadata": {},
     "output_type": "execute_result"
    }
   ],
   "source": [
    "print('The files under package Gutenberg are listed below:\\n')\n",
    "gutenberg.fileids()"
   ]
  },
  {
   "cell_type": "markdown",
   "metadata": {},
   "source": [
    "### Find out how many words and how many unique words in file 'austen-persuasion.txt'."
   ]
  },
  {
   "cell_type": "code",
   "execution_count": 3,
   "metadata": {
    "collapsed": false
   },
   "outputs": [
    {
     "name": "stdout",
     "output_type": "stream",
     "text": [
      "The total count of words in austen-persuasion.txt is: 98171\n",
      "The number of unique words in austen-persuasion.txt is: 6132\n"
     ]
    }
   ],
   "source": [
    "austenWords = gutenberg.words('austen-persuasion.txt')\n",
    "#austenUniqueCount = len(set([word for word in austenWords]))\n",
    "austenUniqueCount = len(set(austenWords))\n",
    "print('The total count of words in austen-persuasion.txt is:', len(austenWords))\n",
    "print('The number of unique words in austen-persuasion.txt is:',austenUniqueCount)"
   ]
  },
  {
   "cell_type": "markdown",
   "metadata": {},
   "source": [
    "### Calculate the frequency for each words and show the top 10 most frequent words and their frequency."
   ]
  },
  {
   "cell_type": "code",
   "execution_count": 22,
   "metadata": {
    "collapsed": false
   },
   "outputs": [
    {
     "name": "stdout",
     "output_type": "stream",
     "text": [
      "The top 10 most frequent words and their frequency are:\n",
      "\n"
     ]
    },
    {
     "data": {
      "text/plain": [
       "[(';', 1290),\n",
       " ('was', 1330),\n",
       " ('in', 1346),\n",
       " ('a', 1529),\n",
       " ('of', 2564),\n",
       " ('and', 2739),\n",
       " ('.', 2741),\n",
       " ('to', 2775),\n",
       " ('the', 3120),\n",
       " (',', 6750)]"
      ]
     },
     "execution_count": 22,
     "metadata": {},
     "output_type": "execute_result"
    }
   ],
   "source": [
    "import collections\n",
    "austenWords = gutenberg.words('austen-persuasion.txt')\n",
    "D = {}\n",
    "for word in austenWords:\n",
    "    if word in D:\n",
    "        val = D[word]\n",
    "        val = val + 1\n",
    "        D[word] = val\n",
    "    else:\n",
    "        D[word] = 1\n",
    "sortedDict = collections.OrderedDict(sorted(D.items(), key=lambda t: t[1]))\n",
    "sortedList = list(sortedDict.items())\n",
    "print('The top 10 most frequent words and their frequency are:\\n')\n",
    "sortedList[-10:]"
   ]
  },
  {
   "cell_type": "code",
   "execution_count": null,
   "metadata": {
    "collapsed": true
   },
   "outputs": [],
   "source": []
  }
 ],
 "metadata": {
  "anaconda-cloud": {},
  "kernelspec": {
   "display_name": "Python [conda root]",
   "language": "python",
   "name": "conda-root-py"
  },
  "language_info": {
   "codemirror_mode": {
    "name": "ipython",
    "version": 3
   },
   "file_extension": ".py",
   "mimetype": "text/x-python",
   "name": "python",
   "nbconvert_exporter": "python",
   "pygments_lexer": "ipython3",
   "version": "3.5.2"
  }
 },
 "nbformat": 4,
 "nbformat_minor": 1
}
