{
 "cells": [
  {
   "cell_type": "markdown",
   "metadata": {},
   "source": [
    "## CRICKET MATCHES ANALYSIS"
   ]
  },
  {
   "cell_type": "markdown",
   "metadata": {},
   "source": [
    "### Calculate the average score for each team which host game and win game."
   ]
  },
  {
   "cell_type": "code",
   "execution_count": 10,
   "metadata": {
    "collapsed": true
   },
   "outputs": [],
   "source": [
    "import numpy as np\n",
    "import pandas as pd\n",
    "import os\n",
    "import datetime"
   ]
  },
  {
   "cell_type": "code",
   "execution_count": 11,
   "metadata": {
    "collapsed": false
   },
   "outputs": [],
   "source": [
    "# Read csv into dataframe\n",
    "df = pd.read_csv('Data/cricket_matches.csv') "
   ]
  },
  {
   "cell_type": "code",
   "execution_count": 12,
   "metadata": {
    "collapsed": true
   },
   "outputs": [],
   "source": [
    "df = df[['home', 'away', 'winner', 'innings1', 'innings2', 'innings1_runs', 'innings2_runs']]\n",
    "# Check if the winning team was the host team as well\n",
    "df = df[df['home'] == df['winner']]"
   ]
  },
  {
   "cell_type": "code",
   "execution_count": 13,
   "metadata": {
    "collapsed": true
   },
   "outputs": [],
   "source": [
    "# Check if the winning host team played innings 1 or innings 2\n",
    "df['winner_runs'] = df.apply(lambda x:x['innings1_runs'] if x['innings1'] == x['home'] else x['innings2_runs'], axis = 1)"
   ]
  },
  {
   "cell_type": "code",
   "execution_count": 14,
   "metadata": {
    "collapsed": false
   },
   "outputs": [
    {
     "name": "stdout",
     "output_type": "stream",
     "text": [
      "Top 5 average scores of teams which won as a host team is shown below:\n",
      "\n",
      "                      winner_runs\n",
      "home                             \n",
      "New Zealand A               227.0\n",
      "Baluchistan                 217.0\n",
      "India A                     214.0\n",
      "Northerns (Zimbabwe)        198.5\n",
      "Port Qasim Authority        190.0\n"
     ]
    }
   ],
   "source": [
    "# Group the winning host teams from the above step to find the average score\n",
    "df = df.groupby('home').agg({'winner_runs':np.mean})\n",
    "print('Top 5 average scores of teams which won as a host team is shown below:\\n')\n",
    "print(df.sort_values('winner_runs',ascending=False).head())"
   ]
  },
  {
   "cell_type": "code",
   "execution_count": 15,
   "metadata": {
    "collapsed": true
   },
   "outputs": [],
   "source": [
    "os.makedirs('Output', exist_ok=True)"
   ]
  },
  {
   "cell_type": "code",
   "execution_count": 16,
   "metadata": {
    "collapsed": true
   },
   "outputs": [],
   "source": [
    "df.to_csv('Output/Q3Part1.csv')"
   ]
  },
  {
   "cell_type": "code",
   "execution_count": 17,
   "metadata": {
    "collapsed": false
   },
   "outputs": [
    {
     "name": "stdout",
     "output_type": "stream",
     "text": [
      "Completed the cricket match analysis to determine average scores of top 5 winning host teams. The results have been saved in Output/Q3Part1.csv\n"
     ]
    }
   ],
   "source": [
    "print('Completed the cricket match analysis to determine average scores of top 5 winning host teams. The results have been saved in Output/Q3Part1.csv')"
   ]
  },
  {
   "cell_type": "code",
   "execution_count": null,
   "metadata": {
    "collapsed": true
   },
   "outputs": [],
   "source": []
  }
 ],
 "metadata": {
  "kernelspec": {
   "display_name": "Python [conda root]",
   "language": "python",
   "name": "conda-root-py"
  },
  "language_info": {
   "codemirror_mode": {
    "name": "ipython",
    "version": 3
   },
   "file_extension": ".py",
   "mimetype": "text/x-python",
   "name": "python",
   "nbconvert_exporter": "python",
   "pygments_lexer": "ipython3",
   "version": "3.5.2"
  }
 },
 "nbformat": 4,
 "nbformat_minor": 1
}
