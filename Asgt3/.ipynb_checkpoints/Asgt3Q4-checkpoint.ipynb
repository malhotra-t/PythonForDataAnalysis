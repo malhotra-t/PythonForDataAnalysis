{
 "cells": [
  {
   "cell_type": "markdown",
   "metadata": {},
   "source": [
    "## MOVIE AWARDS ANALYSIS"
   ]
  },
  {
   "cell_type": "code",
   "execution_count": 1,
   "metadata": {
    "collapsed": true
   },
   "outputs": [],
   "source": [
    "import numpy as np\n",
    "import pandas as pd\n",
    "import os\n",
    "import datetime\n",
    "import re"
   ]
  },
  {
   "cell_type": "code",
   "execution_count": 2,
   "metadata": {
    "collapsed": true
   },
   "outputs": [],
   "source": [
    "# Read movie_awards csv into a dataframe\n",
    "df = pd.read_csv('Data/movies_awards.csv') \n",
    "df = df[['Title', 'Year', 'Awards']]"
   ]
  },
  {
   "cell_type": "code",
   "execution_count": 3,
   "metadata": {
    "collapsed": false
   },
   "outputs": [
    {
     "data": {
      "text/html": [
       "<div>\n",
       "<table border=\"1\" class=\"dataframe\">\n",
       "  <thead>\n",
       "    <tr style=\"text-align: right;\">\n",
       "      <th></th>\n",
       "      <th>Title</th>\n",
       "      <th>Year</th>\n",
       "      <th>Awards</th>\n",
       "    </tr>\n",
       "  </thead>\n",
       "  <tbody>\n",
       "    <tr>\n",
       "      <th>3</th>\n",
       "      <td>Who Are You?</td>\n",
       "      <td>2001</td>\n",
       "      <td>1 win &amp; 2 nominations.</td>\n",
       "    </tr>\n",
       "    <tr>\n",
       "      <th>4</th>\n",
       "      <td>Skeletons in the Closet</td>\n",
       "      <td>2001</td>\n",
       "      <td>1 win.</td>\n",
       "    </tr>\n",
       "    <tr>\n",
       "      <th>5</th>\n",
       "      <td>Cheerleader Ninjas</td>\n",
       "      <td>2002</td>\n",
       "      <td>1 nomination.</td>\n",
       "    </tr>\n",
       "    <tr>\n",
       "      <th>6</th>\n",
       "      <td>The Girl from Paris</td>\n",
       "      <td>2001</td>\n",
       "      <td>3 wins &amp; 2 nominations.</td>\n",
       "    </tr>\n",
       "    <tr>\n",
       "      <th>7</th>\n",
       "      <td>The Final Curtain</td>\n",
       "      <td>2002</td>\n",
       "      <td>1 win &amp; 1 nomination.</td>\n",
       "    </tr>\n",
       "  </tbody>\n",
       "</table>\n",
       "</div>"
      ],
      "text/plain": [
       "                     Title  Year                   Awards\n",
       "3             Who Are You?  2001   1 win & 2 nominations.\n",
       "4  Skeletons in the Closet  2001                   1 win.\n",
       "5       Cheerleader Ninjas  2002            1 nomination.\n",
       "6      The Girl from Paris  2001  3 wins & 2 nominations.\n",
       "7        The Final Curtain  2002    1 win & 1 nomination."
      ]
     },
     "execution_count": 3,
     "metadata": {},
     "output_type": "execute_result"
    }
   ],
   "source": [
    "# Pull out data from Awards column\n",
    "df = df[pd.notnull(df['Awards'])]\n",
    "df.head()"
   ]
  },
  {
   "cell_type": "code",
   "execution_count": 4,
   "metadata": {
    "collapsed": true
   },
   "outputs": [],
   "source": [
    "# Regula exp to catch groups for finding special awards and nominations as well as simple awards and nominations\n",
    "regex_pattern = re.compile('^((Won? (\\d+) (\\w*(\\s\\w*)*)( & )?)?(Nominated for? (\\d+) (\\w*(\\s\\w*)*))?\\u002e\\s?)?(((Another )?((\\d+) win\\w?)( & )?)?((\\d+) nomination\\w?)?\\u002e)?$')"
   ]
  },
  {
   "cell_type": "code",
   "execution_count": 5,
   "metadata": {
    "collapsed": true
   },
   "outputs": [],
   "source": [
    "# Function that is applied on each row to extract new columns for award and nomination counts\n",
    "def awards_nom(row):\n",
    "    match_result = regex_pattern.match(row['Awards'])\n",
    "    if match_result:\n",
    "        award_wins = match_result.group(3)\n",
    "        award_type = match_result.group(4)\n",
    "        if award_wins and award_type:\n",
    "            if award_type[-1] == 's':\n",
    "                award_type = award_type[:-1]\n",
    "            award_type = award_type + ' Awards_Won'\n",
    "            row[award_type] = award_wins\n",
    "\n",
    "        award_nomination = match_result.group(8)\n",
    "        nomination_type = match_result.group(9)\n",
    "        if award_nomination and nomination_type:\n",
    "            if nomination_type[-1] == 's':\n",
    "                nomination_type = nomination_type[:-1]\n",
    "            nomination_type = nomination_type + ' Awards_Nominated'\n",
    "            row[nomination_type] = award_nomination\n",
    "\n",
    "        simple_award_wins = match_result.group(15)\n",
    "        if simple_award_wins:\n",
    "            row['Awards_Won'] = simple_award_wins\n",
    "\n",
    "        simple_nom = match_result.group(18)\n",
    "        if simple_nom:\n",
    "            row['Awards_Nominated'] = simple_nom\n",
    "    return row  "
   ]
  },
  {
   "cell_type": "code",
   "execution_count": 6,
   "metadata": {
    "collapsed": false
   },
   "outputs": [
    {
     "data": {
      "text/html": [
       "<div>\n",
       "<table border=\"1\" class=\"dataframe\">\n",
       "  <thead>\n",
       "    <tr style=\"text-align: right;\">\n",
       "      <th></th>\n",
       "      <th>Awards</th>\n",
       "      <th>Awards_Nominated</th>\n",
       "      <th>Awards_Won</th>\n",
       "      <th>BAFTA Film Award Awards_Nominated</th>\n",
       "      <th>Golden Globe Awards_Nominated</th>\n",
       "      <th>Golden Globe Awards_Won</th>\n",
       "      <th>Oscar Awards_Nominated</th>\n",
       "      <th>Oscar Awards_Won</th>\n",
       "      <th>Primetime Emmy Awards_Nominated</th>\n",
       "      <th>Primetime Emmy Awards_Won</th>\n",
       "      <th>Title</th>\n",
       "      <th>Year</th>\n",
       "    </tr>\n",
       "  </thead>\n",
       "  <tbody>\n",
       "    <tr>\n",
       "      <th>15180</th>\n",
       "      <td>2 nominations.</td>\n",
       "      <td>2</td>\n",
       "      <td>0</td>\n",
       "      <td>0</td>\n",
       "      <td>0</td>\n",
       "      <td>0</td>\n",
       "      <td>0</td>\n",
       "      <td>0</td>\n",
       "      <td>0</td>\n",
       "      <td>0</td>\n",
       "      <td>Camp Unplug</td>\n",
       "      <td>2016</td>\n",
       "    </tr>\n",
       "    <tr>\n",
       "      <th>15219</th>\n",
       "      <td>2 nominations.</td>\n",
       "      <td>2</td>\n",
       "      <td>0</td>\n",
       "      <td>0</td>\n",
       "      <td>0</td>\n",
       "      <td>0</td>\n",
       "      <td>0</td>\n",
       "      <td>0</td>\n",
       "      <td>0</td>\n",
       "      <td>0</td>\n",
       "      <td>The Baulkham Hills African Ladies Troupe</td>\n",
       "      <td>2016</td>\n",
       "    </tr>\n",
       "    <tr>\n",
       "      <th>15230</th>\n",
       "      <td>1 nomination.</td>\n",
       "      <td>1</td>\n",
       "      <td>0</td>\n",
       "      <td>0</td>\n",
       "      <td>0</td>\n",
       "      <td>0</td>\n",
       "      <td>0</td>\n",
       "      <td>0</td>\n",
       "      <td>0</td>\n",
       "      <td>0</td>\n",
       "      <td>Me</td>\n",
       "      <td>2016</td>\n",
       "    </tr>\n",
       "    <tr>\n",
       "      <th>15234</th>\n",
       "      <td>1 win &amp; 1 nomination.</td>\n",
       "      <td>1</td>\n",
       "      <td>1</td>\n",
       "      <td>0</td>\n",
       "      <td>0</td>\n",
       "      <td>0</td>\n",
       "      <td>0</td>\n",
       "      <td>0</td>\n",
       "      <td>0</td>\n",
       "      <td>0</td>\n",
       "      <td>Caged</td>\n",
       "      <td>2016</td>\n",
       "    </tr>\n",
       "    <tr>\n",
       "      <th>15269</th>\n",
       "      <td>7 nominations.</td>\n",
       "      <td>7</td>\n",
       "      <td>0</td>\n",
       "      <td>0</td>\n",
       "      <td>0</td>\n",
       "      <td>0</td>\n",
       "      <td>0</td>\n",
       "      <td>0</td>\n",
       "      <td>0</td>\n",
       "      <td>0</td>\n",
       "      <td>SoulMate</td>\n",
       "      <td>2016</td>\n",
       "    </tr>\n",
       "  </tbody>\n",
       "</table>\n",
       "</div>"
      ],
      "text/plain": [
       "                      Awards Awards_Nominated Awards_Won  \\\n",
       "15180         2 nominations.                2          0   \n",
       "15219         2 nominations.                2          0   \n",
       "15230          1 nomination.                1          0   \n",
       "15234  1 win & 1 nomination.                1          1   \n",
       "15269         7 nominations.                7          0   \n",
       "\n",
       "      BAFTA Film Award Awards_Nominated Golden Globe Awards_Nominated  \\\n",
       "15180                                 0                             0   \n",
       "15219                                 0                             0   \n",
       "15230                                 0                             0   \n",
       "15234                                 0                             0   \n",
       "15269                                 0                             0   \n",
       "\n",
       "      Golden Globe Awards_Won Oscar Awards_Nominated Oscar Awards_Won  \\\n",
       "15180                       0                      0                0   \n",
       "15219                       0                      0                0   \n",
       "15230                       0                      0                0   \n",
       "15234                       0                      0                0   \n",
       "15269                       0                      0                0   \n",
       "\n",
       "      Primetime Emmy Awards_Nominated Primetime Emmy Awards_Won  \\\n",
       "15180                               0                         0   \n",
       "15219                               0                         0   \n",
       "15230                               0                         0   \n",
       "15234                               0                         0   \n",
       "15269                               0                         0   \n",
       "\n",
       "                                          Title  Year  \n",
       "15180                               Camp Unplug  2016  \n",
       "15219  The Baulkham Hills African Ladies Troupe  2016  \n",
       "15230                                        Me  2016  \n",
       "15234                                     Caged  2016  \n",
       "15269                                  SoulMate  2016  "
      ]
     },
     "execution_count": 6,
     "metadata": {},
     "output_type": "execute_result"
    }
   ],
   "source": [
    "# Apply the funtion above on axis=1\n",
    "df = df.apply(awards_nom,axis=1)\n",
    "# Fill NaNs with 0\n",
    "df = df.fillna(0)\n",
    "df.head()"
   ]
  },
  {
   "cell_type": "code",
   "execution_count": 7,
   "metadata": {
    "collapsed": true
   },
   "outputs": [],
   "source": [
    "os.makedirs('Output', exist_ok=True)"
   ]
  },
  {
   "cell_type": "code",
   "execution_count": 8,
   "metadata": {
    "collapsed": true
   },
   "outputs": [],
   "source": [
    "df.to_csv('Output/Q4.csv')"
   ]
  },
  {
   "cell_type": "code",
   "execution_count": 9,
   "metadata": {
    "collapsed": false
   },
   "outputs": [
    {
     "name": "stdout",
     "output_type": "stream",
     "text": [
      "Results saved in Output/Q4.csv\n"
     ]
    }
   ],
   "source": [
    "print('Results saved in Output/Q4.csv')"
   ]
  },
  {
   "cell_type": "code",
   "execution_count": null,
   "metadata": {
    "collapsed": true
   },
   "outputs": [],
   "source": []
  }
 ],
 "metadata": {
  "kernelspec": {
   "display_name": "Python [conda root]",
   "language": "python",
   "name": "conda-root-py"
  },
  "language_info": {
   "codemirror_mode": {
    "name": "ipython",
    "version": 3
   },
   "file_extension": ".py",
   "mimetype": "text/x-python",
   "name": "python",
   "nbconvert_exporter": "python",
   "pygments_lexer": "ipython3",
   "version": "3.5.2"
  }
 },
 "nbformat": 4,
 "nbformat_minor": 1
}
