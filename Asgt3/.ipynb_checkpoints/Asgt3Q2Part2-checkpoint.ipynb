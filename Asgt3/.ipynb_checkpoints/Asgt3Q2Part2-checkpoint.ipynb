{
 "cells": [
  {
   "cell_type": "markdown",
   "metadata": {},
   "source": [
    "## EMPLOYEE COMPENSATION ANALYSIS"
   ]
  },
  {
   "cell_type": "code",
   "execution_count": 1,
   "metadata": {
    "collapsed": true
   },
   "outputs": [],
   "source": [
    "import numpy as np\n",
    "import pandas as pd\n",
    "import os\n",
    "import datetime"
   ]
  },
  {
   "cell_type": "code",
   "execution_count": 2,
   "metadata": {
    "collapsed": true
   },
   "outputs": [],
   "source": [
    "# Read csv into a dataframe\n",
    "df = pd.read_csv('Data/employee_compensation.csv') "
   ]
  },
  {
   "cell_type": "markdown",
   "metadata": {},
   "source": [
    "### Filter data by calendar year and find average salary for every employee."
   ]
  },
  {
   "cell_type": "code",
   "execution_count": 3,
   "metadata": {
    "collapsed": false
   },
   "outputs": [
    {
     "data": {
      "text/html": [
       "<div>\n",
       "<table border=\"1\" class=\"dataframe\">\n",
       "  <thead>\n",
       "    <tr style=\"text-align: right;\">\n",
       "      <th></th>\n",
       "      <th>Employee Identifier</th>\n",
       "      <th>Salaries</th>\n",
       "      <th>Overtime</th>\n",
       "      <th>Other Salaries</th>\n",
       "      <th>Retirement</th>\n",
       "      <th>Health/Dental</th>\n",
       "      <th>Other Benefits</th>\n",
       "    </tr>\n",
       "  </thead>\n",
       "  <tbody>\n",
       "    <tr>\n",
       "      <th>0</th>\n",
       "      <td>52206</td>\n",
       "      <td>98528.52</td>\n",
       "      <td>0.00</td>\n",
       "      <td>3955.59</td>\n",
       "      <td>20142.55</td>\n",
       "      <td>12918.24</td>\n",
       "      <td>8371.76</td>\n",
       "    </tr>\n",
       "    <tr>\n",
       "      <th>2</th>\n",
       "      <td>33958</td>\n",
       "      <td>200.00</td>\n",
       "      <td>0.00</td>\n",
       "      <td>0.00</td>\n",
       "      <td>0.00</td>\n",
       "      <td>51.45</td>\n",
       "      <td>15.83</td>\n",
       "    </tr>\n",
       "    <tr>\n",
       "      <th>3</th>\n",
       "      <td>33073</td>\n",
       "      <td>1783.00</td>\n",
       "      <td>0.00</td>\n",
       "      <td>0.00</td>\n",
       "      <td>325.05</td>\n",
       "      <td>257.23</td>\n",
       "      <td>153.85</td>\n",
       "    </tr>\n",
       "    <tr>\n",
       "      <th>5</th>\n",
       "      <td>23930</td>\n",
       "      <td>80207.24</td>\n",
       "      <td>2232.53</td>\n",
       "      <td>1568.00</td>\n",
       "      <td>15064.98</td>\n",
       "      <td>13890.29</td>\n",
       "      <td>6888.51</td>\n",
       "    </tr>\n",
       "    <tr>\n",
       "      <th>7</th>\n",
       "      <td>38054</td>\n",
       "      <td>24180.00</td>\n",
       "      <td>0.00</td>\n",
       "      <td>0.00</td>\n",
       "      <td>1490.20</td>\n",
       "      <td>8586.13</td>\n",
       "      <td>1880.37</td>\n",
       "    </tr>\n",
       "  </tbody>\n",
       "</table>\n",
       "</div>"
      ],
      "text/plain": [
       "   Employee Identifier  Salaries  Overtime  Other Salaries  Retirement  \\\n",
       "0                52206  98528.52      0.00         3955.59    20142.55   \n",
       "2                33958    200.00      0.00            0.00        0.00   \n",
       "3                33073   1783.00      0.00            0.00      325.05   \n",
       "5                23930  80207.24   2232.53         1568.00    15064.98   \n",
       "7                38054  24180.00      0.00            0.00     1490.20   \n",
       "\n",
       "   Health/Dental  Other Benefits  \n",
       "0       12918.24         8371.76  \n",
       "2          51.45           15.83  \n",
       "3         257.23          153.85  \n",
       "5       13890.29         6888.51  \n",
       "7        8586.13         1880.37  "
      ]
     },
     "execution_count": 3,
     "metadata": {},
     "output_type": "execute_result"
    }
   ],
   "source": [
    "# Create a dataframe for calendar year\n",
    "cal_df = df[df['Year Type'] == 'Calendar']\n",
    "#Filter out the columns concerning employee salaries, compensation and benefits\n",
    "cal_df = cal_df[['Employee Identifier', 'Salaries', 'Overtime', 'Other Salaries', 'Retirement', 'Health/Dental', 'Other Benefits']]\n",
    "cal_df.head()"
   ]
  },
  {
   "cell_type": "code",
   "execution_count": 4,
   "metadata": {
    "collapsed": true
   },
   "outputs": [],
   "source": [
    "# Calculating average salary and average benefits for each employee\n",
    "cal_df['Average Salary'] = cal_df.apply(lambda x:(x['Salaries'] + x['Overtime'] + x['Other Salaries'])/3, axis=1)\n",
    "cal_df['Average Benefits'] = cal_df.apply(lambda x:(x['Retirement'] + x['Health/Dental'] + x['Other Benefits'])/3, axis=1)"
   ]
  },
  {
   "cell_type": "code",
   "execution_count": 5,
   "metadata": {
    "collapsed": false
   },
   "outputs": [
    {
     "name": "stdout",
     "output_type": "stream",
     "text": [
      "Top 5 entries:\n",
      "\n",
      "   Employee Identifier  Average Salary  Average Benefits\n",
      "0                52206    34161.370000      13810.850000\n",
      "2                33958       66.666667         22.426667\n",
      "3                33073      594.333333        245.376667\n",
      "5                23930    28002.590000      11947.926667\n",
      "7                38054     8060.000000       3985.566667\n"
     ]
    }
   ],
   "source": [
    "# Listing the top 5 entries\n",
    "print('Top 5 entries:\\n')\n",
    "print(cal_df.head()[['Employee Identifier','Average Salary', 'Average Benefits']])"
   ]
  },
  {
   "cell_type": "markdown",
   "metadata": {},
   "source": [
    " ### Now, find the people whose overtime salary is greater than 5% of salaries (salaries refers to ’Salaries' column)"
   ]
  },
  {
   "cell_type": "code",
   "execution_count": 6,
   "metadata": {
    "collapsed": false
   },
   "outputs": [
    {
     "name": "stdout",
     "output_type": "stream",
     "text": [
      "Top 5 employees with Overtime salary greater than 5% of salary :\n",
      "\n",
      "        Employee Identifier   Salaries   Overtime\n",
      "56641                 45457  106570.00  263229.56\n",
      "306078                36690  106570.04  232627.49\n",
      "320633                45457   97802.93  208668.82\n",
      "88134                 17676  118135.01  191008.58\n",
      "200500                29330   95405.00  190244.38\n"
     ]
    },
    {
     "name": "stderr",
     "output_type": "stream",
     "text": [
      "C:\\Users\\parit\\Anaconda3\\lib\\site-packages\\ipykernel\\__main__.py:2: UserWarning: Boolean Series key will be reindexed to match DataFrame index.\n",
      "  from ipykernel import kernelapp as app\n"
     ]
    }
   ],
   "source": [
    "# Fetch the records of employees where the 'Overtime' value is graeter than 5% of the 'Salaries' value\n",
    "overtime_df = cal_df[df['Overtime'] > 0.05 * df['Salaries']]\n",
    "overtime_df = overtime_df[['Employee Identifier','Salaries', 'Overtime']]\n",
    "print('Top 5 employees with Overtime salary greater than 5% of salary :\\n')\n",
    "print(overtime_df.sort_values('Overtime', ascending=False).head())"
   ]
  },
  {
   "cell_type": "markdown",
   "metadata": {},
   "source": [
    "### For each ‘Job Family’ these people are associated with, calculate the percentage of total benefits with respect to total compensation (so for each job family you have to calculate average total benefits and average total compensation). Create a new column to hold the percentage value. Display the top 5 Job Families according to this percentage value using df.head()"
   ]
  },
  {
   "cell_type": "code",
   "execution_count": 7,
   "metadata": {
    "collapsed": false
   },
   "outputs": [
    {
     "data": {
      "text/html": [
       "<div>\n",
       "<table border=\"1\" class=\"dataframe\">\n",
       "  <thead>\n",
       "    <tr style=\"text-align: right;\">\n",
       "      <th></th>\n",
       "      <th>Job Family</th>\n",
       "      <th>Total Benefits</th>\n",
       "      <th>Total Compensation</th>\n",
       "    </tr>\n",
       "  </thead>\n",
       "  <tbody>\n",
       "    <tr>\n",
       "      <th>0</th>\n",
       "      <td>Journeyman Trade</td>\n",
       "      <td>41432.55</td>\n",
       "      <td>143916.66</td>\n",
       "    </tr>\n",
       "    <tr>\n",
       "      <th>1</th>\n",
       "      <td>Dietary &amp; Food</td>\n",
       "      <td>33810.24</td>\n",
       "      <td>107914.16</td>\n",
       "    </tr>\n",
       "    <tr>\n",
       "      <th>2</th>\n",
       "      <td>Management</td>\n",
       "      <td>67.28</td>\n",
       "      <td>267.28</td>\n",
       "    </tr>\n",
       "    <tr>\n",
       "      <th>3</th>\n",
       "      <td>Legal &amp; Court</td>\n",
       "      <td>736.13</td>\n",
       "      <td>2519.13</td>\n",
       "    </tr>\n",
       "    <tr>\n",
       "      <th>4</th>\n",
       "      <td>Public Service Aide</td>\n",
       "      <td>624.18</td>\n",
       "      <td>1726.68</td>\n",
       "    </tr>\n",
       "  </tbody>\n",
       "</table>\n",
       "</div>"
      ],
      "text/plain": [
       "            Job Family  Total Benefits  Total Compensation\n",
       "0     Journeyman Trade        41432.55           143916.66\n",
       "1       Dietary & Food        33810.24           107914.16\n",
       "2           Management           67.28              267.28\n",
       "3        Legal & Court          736.13             2519.13\n",
       "4  Public Service Aide          624.18             1726.68"
      ]
     },
     "execution_count": 7,
     "metadata": {},
     "output_type": "execute_result"
    }
   ],
   "source": [
    "# Fetching the benfits and compensation corresponding to each Job Family\n",
    "jobfam_df = df[['Job Family', 'Total Benefits', 'Total Compensation']]\n",
    "jobfam_df.head()"
   ]
  },
  {
   "cell_type": "code",
   "execution_count": 8,
   "metadata": {
    "collapsed": false
   },
   "outputs": [
    {
     "data": {
      "text/html": [
       "<div>\n",
       "<table border=\"1\" class=\"dataframe\">\n",
       "  <thead>\n",
       "    <tr style=\"text-align: right;\">\n",
       "      <th></th>\n",
       "      <th>Total Benefits</th>\n",
       "      <th>Total Compensation</th>\n",
       "    </tr>\n",
       "    <tr>\n",
       "      <th>Job Family</th>\n",
       "      <th></th>\n",
       "      <th></th>\n",
       "    </tr>\n",
       "  </thead>\n",
       "  <tbody>\n",
       "    <tr>\n",
       "      <th>Administrative &amp; Mgmt (Unrep)</th>\n",
       "      <td>58804.222241</td>\n",
       "      <td>248536.124310</td>\n",
       "    </tr>\n",
       "    <tr>\n",
       "      <th>Administrative Secretarial</th>\n",
       "      <td>28918.649873</td>\n",
       "      <td>101995.198101</td>\n",
       "    </tr>\n",
       "    <tr>\n",
       "      <th>Administrative-DPW/PUC</th>\n",
       "      <td>41349.404069</td>\n",
       "      <td>156364.681576</td>\n",
       "    </tr>\n",
       "    <tr>\n",
       "      <th>Administrative-Labor &amp; Trades</th>\n",
       "      <td>39922.411887</td>\n",
       "      <td>160870.450896</td>\n",
       "    </tr>\n",
       "    <tr>\n",
       "      <th>Agriculture &amp; Horticulture</th>\n",
       "      <td>25407.737041</td>\n",
       "      <td>81391.643272</td>\n",
       "    </tr>\n",
       "  </tbody>\n",
       "</table>\n",
       "</div>"
      ],
      "text/plain": [
       "                               Total Benefits  Total Compensation\n",
       "Job Family                                                       \n",
       "Administrative & Mgmt (Unrep)    58804.222241       248536.124310\n",
       "Administrative Secretarial       28918.649873       101995.198101\n",
       "Administrative-DPW/PUC           41349.404069       156364.681576\n",
       "Administrative-Labor & Trades    39922.411887       160870.450896\n",
       "Agriculture & Horticulture       25407.737041        81391.643272"
      ]
     },
     "execution_count": 8,
     "metadata": {},
     "output_type": "execute_result"
    }
   ],
   "source": [
    "# Calculating the average benefits and compensation for each 'Job Family'\n",
    "jobfam_df = jobfam_df.groupby('Job Family').agg({'Total Benefits':np.mean,'Total Compensation':np.mean})\n",
    "jobfam_df.head()"
   ]
  },
  {
   "cell_type": "code",
   "execution_count": 9,
   "metadata": {
    "collapsed": false
   },
   "outputs": [
    {
     "name": "stdout",
     "output_type": "stream",
     "text": [
      "Top 5 entries for percentage of Benefits to Compensation for each Job Family :\n",
      "\n",
      "                               Total Benefits  Total Compensation  Percentage\n",
      "Job Family                                                                   \n",
      "Public Service Aide               5087.142130        14450.325272   35.204343\n",
      "Housekeeping & Laundry           23787.827171        72612.204294   32.760095\n",
      "Park & Zoo                       17359.449541        53001.043501   32.753034\n",
      "Clerical, Secretarial & Steno    21394.905197        66009.821043   32.411700\n",
      "Dietary & Food                   19300.787905        60295.256688   32.010458\n"
     ]
    }
   ],
   "source": [
    "# Calculating the percentage of average total benefits to total compensation for each 'Job Family' and printing the top 5 entries\n",
    "jobfam_df['Percentage'] = jobfam_df['Total Benefits'] / jobfam_df['Total Compensation'] * 100\n",
    "print('Top 5 entries for percentage of Benefits to Compensation for each Job Family :\\n')\n",
    "print(jobfam_df.sort_values('Percentage', ascending=False).head())"
   ]
  },
  {
   "cell_type": "code",
   "execution_count": null,
   "metadata": {
    "collapsed": true
   },
   "outputs": [],
   "source": []
  }
 ],
 "metadata": {
  "kernelspec": {
   "display_name": "Python [conda root]",
   "language": "python",
   "name": "conda-root-py"
  },
  "language_info": {
   "codemirror_mode": {
    "name": "ipython",
    "version": 3
   },
   "file_extension": ".py",
   "mimetype": "text/x-python",
   "name": "python",
   "nbconvert_exporter": "python",
   "pygments_lexer": "ipython3",
   "version": "3.5.2"
  }
 },
 "nbformat": 4,
 "nbformat_minor": 1
}
