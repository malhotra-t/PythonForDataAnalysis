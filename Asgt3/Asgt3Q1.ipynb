{
 "cells": [
  {
   "cell_type": "markdown",
   "metadata": {
    "collapsed": true
   },
   "source": [
    "## NYC Collision Analysis"
   ]
  },
  {
   "cell_type": "code",
   "execution_count": 1,
   "metadata": {
    "collapsed": true
   },
   "outputs": [],
   "source": [
    "import numpy as np\n",
    "import pandas as pd\n",
    "import datetime\n",
    "import os"
   ]
  },
  {
   "cell_type": "code",
   "execution_count": 2,
   "metadata": {
    "collapsed": true
   },
   "outputs": [],
   "source": [
    "# Read csv file into a dataframe\n",
    "df = pd.read_csv('Data/vehicle_collisions.csv', index_col = 0, parse_dates=[1])"
   ]
  },
  {
   "cell_type": "code",
   "execution_count": 3,
   "metadata": {
    "collapsed": false
   },
   "outputs": [
    {
     "data": {
      "text/html": [
       "<div>\n",
       "<table border=\"1\" class=\"dataframe\">\n",
       "  <thead>\n",
       "    <tr style=\"text-align: right;\">\n",
       "      <th></th>\n",
       "      <th>DATE</th>\n",
       "      <th>TIME</th>\n",
       "      <th>BOROUGH</th>\n",
       "      <th>ZIP CODE</th>\n",
       "      <th>LATITUDE</th>\n",
       "      <th>LONGITUDE</th>\n",
       "      <th>LOCATION</th>\n",
       "      <th>ON STREET NAME</th>\n",
       "      <th>CROSS STREET NAME</th>\n",
       "      <th>OFF STREET NAME</th>\n",
       "      <th>...</th>\n",
       "      <th>VEHICLE 1 TYPE</th>\n",
       "      <th>VEHICLE 2 TYPE</th>\n",
       "      <th>VEHICLE 3 TYPE</th>\n",
       "      <th>VEHICLE 4 TYPE</th>\n",
       "      <th>VEHICLE 5 TYPE</th>\n",
       "      <th>VEHICLE 1 FACTOR</th>\n",
       "      <th>VEHICLE 2 FACTOR</th>\n",
       "      <th>VEHICLE 3 FACTOR</th>\n",
       "      <th>VEHICLE 4 FACTOR</th>\n",
       "      <th>VEHICLE 5 FACTOR</th>\n",
       "    </tr>\n",
       "    <tr>\n",
       "      <th>UNIQUE KEY</th>\n",
       "      <th></th>\n",
       "      <th></th>\n",
       "      <th></th>\n",
       "      <th></th>\n",
       "      <th></th>\n",
       "      <th></th>\n",
       "      <th></th>\n",
       "      <th></th>\n",
       "      <th></th>\n",
       "      <th></th>\n",
       "      <th></th>\n",
       "      <th></th>\n",
       "      <th></th>\n",
       "      <th></th>\n",
       "      <th></th>\n",
       "      <th></th>\n",
       "      <th></th>\n",
       "      <th></th>\n",
       "      <th></th>\n",
       "      <th></th>\n",
       "      <th></th>\n",
       "    </tr>\n",
       "  </thead>\n",
       "  <tbody>\n",
       "    <tr>\n",
       "      <th>3146911</th>\n",
       "      <td>2015-01-01</td>\n",
       "      <td>0:20</td>\n",
       "      <td>QUEENS</td>\n",
       "      <td>11358.0</td>\n",
       "      <td>40.751847</td>\n",
       "      <td>-73.787862</td>\n",
       "      <td>(40.7518471, -73.787862)</td>\n",
       "      <td>47 AVENUE</td>\n",
       "      <td>193 STREET</td>\n",
       "      <td>NaN</td>\n",
       "      <td>...</td>\n",
       "      <td>SPORT UTILITY/STATION WAGON</td>\n",
       "      <td>NaN</td>\n",
       "      <td>NaN</td>\n",
       "      <td>NaN</td>\n",
       "      <td>NaN</td>\n",
       "      <td>TRAFFIC CONTROL DISREGARDED</td>\n",
       "      <td>NaN</td>\n",
       "      <td>NaN</td>\n",
       "      <td>NaN</td>\n",
       "      <td>NaN</td>\n",
       "    </tr>\n",
       "    <tr>\n",
       "      <th>3146180</th>\n",
       "      <td>2015-01-01</td>\n",
       "      <td>0:20</td>\n",
       "      <td>NaN</td>\n",
       "      <td>NaN</td>\n",
       "      <td>40.771289</td>\n",
       "      <td>-73.946693</td>\n",
       "      <td>(40.7712888, -73.9466928)</td>\n",
       "      <td>NaN</td>\n",
       "      <td>NaN</td>\n",
       "      <td>NaN</td>\n",
       "      <td>...</td>\n",
       "      <td>PASSENGER VEHICLE</td>\n",
       "      <td>NaN</td>\n",
       "      <td>NaN</td>\n",
       "      <td>NaN</td>\n",
       "      <td>NaN</td>\n",
       "      <td>ANIMALS ACTION</td>\n",
       "      <td>NaN</td>\n",
       "      <td>NaN</td>\n",
       "      <td>NaN</td>\n",
       "      <td>NaN</td>\n",
       "    </tr>\n",
       "    <tr>\n",
       "      <th>3146384</th>\n",
       "      <td>2015-01-01</td>\n",
       "      <td>0:21</td>\n",
       "      <td>BROOKLYN</td>\n",
       "      <td>11205.0</td>\n",
       "      <td>40.689445</td>\n",
       "      <td>-73.955121</td>\n",
       "      <td>(40.6894449, -73.9551212)</td>\n",
       "      <td>BEDFORD AVENUE</td>\n",
       "      <td>LAFAYETTE AVENUE</td>\n",
       "      <td>NaN</td>\n",
       "      <td>...</td>\n",
       "      <td>PASSENGER VEHICLE</td>\n",
       "      <td>UNKNOWN</td>\n",
       "      <td>NaN</td>\n",
       "      <td>NaN</td>\n",
       "      <td>NaN</td>\n",
       "      <td>FATIGUED/DROWSY</td>\n",
       "      <td>UNSPECIFIED</td>\n",
       "      <td>NaN</td>\n",
       "      <td>NaN</td>\n",
       "      <td>NaN</td>\n",
       "    </tr>\n",
       "    <tr>\n",
       "      <th>3146013</th>\n",
       "      <td>2015-01-01</td>\n",
       "      <td>0:30</td>\n",
       "      <td>BROOKLYN</td>\n",
       "      <td>11213.0</td>\n",
       "      <td>40.673845</td>\n",
       "      <td>-73.925080</td>\n",
       "      <td>(40.6738445, -73.9250801)</td>\n",
       "      <td>BUFFALO AVENUE</td>\n",
       "      <td>SAINT MARKS AVENUE</td>\n",
       "      <td>NaN</td>\n",
       "      <td>...</td>\n",
       "      <td>BUS</td>\n",
       "      <td>PASSENGER VEHICLE</td>\n",
       "      <td>NaN</td>\n",
       "      <td>NaN</td>\n",
       "      <td>NaN</td>\n",
       "      <td>LOST CONSCIOUSNESS</td>\n",
       "      <td>NaN</td>\n",
       "      <td>NaN</td>\n",
       "      <td>NaN</td>\n",
       "      <td>NaN</td>\n",
       "    </tr>\n",
       "    <tr>\n",
       "      <th>3146120</th>\n",
       "      <td>2015-01-01</td>\n",
       "      <td>0:33</td>\n",
       "      <td>NaN</td>\n",
       "      <td>NaN</td>\n",
       "      <td>NaN</td>\n",
       "      <td>NaN</td>\n",
       "      <td>NaN</td>\n",
       "      <td>RICHMOND TERRACE</td>\n",
       "      <td>SOUTH AVENUE</td>\n",
       "      <td>NaN</td>\n",
       "      <td>...</td>\n",
       "      <td>UNKNOWN</td>\n",
       "      <td>PASSENGER VEHICLE</td>\n",
       "      <td>NaN</td>\n",
       "      <td>NaN</td>\n",
       "      <td>NaN</td>\n",
       "      <td>UNSPECIFIED</td>\n",
       "      <td>UNSPECIFIED</td>\n",
       "      <td>NaN</td>\n",
       "      <td>NaN</td>\n",
       "      <td>NaN</td>\n",
       "    </tr>\n",
       "  </tbody>\n",
       "</table>\n",
       "<p>5 rows × 28 columns</p>\n",
       "</div>"
      ],
      "text/plain": [
       "                 DATE  TIME   BOROUGH  ZIP CODE   LATITUDE  LONGITUDE  \\\n",
       "UNIQUE KEY                                                              \n",
       "3146911    2015-01-01  0:20    QUEENS   11358.0  40.751847 -73.787862   \n",
       "3146180    2015-01-01  0:20       NaN       NaN  40.771289 -73.946693   \n",
       "3146384    2015-01-01  0:21  BROOKLYN   11205.0  40.689445 -73.955121   \n",
       "3146013    2015-01-01  0:30  BROOKLYN   11213.0  40.673845 -73.925080   \n",
       "3146120    2015-01-01  0:33       NaN       NaN        NaN        NaN   \n",
       "\n",
       "                             LOCATION    ON STREET NAME   CROSS STREET NAME  \\\n",
       "UNIQUE KEY                                                                    \n",
       "3146911      (40.7518471, -73.787862)         47 AVENUE          193 STREET   \n",
       "3146180     (40.7712888, -73.9466928)               NaN                 NaN   \n",
       "3146384     (40.6894449, -73.9551212)    BEDFORD AVENUE    LAFAYETTE AVENUE   \n",
       "3146013     (40.6738445, -73.9250801)    BUFFALO AVENUE  SAINT MARKS AVENUE   \n",
       "3146120                           NaN  RICHMOND TERRACE        SOUTH AVENUE   \n",
       "\n",
       "           OFF STREET NAME       ...                      VEHICLE 1 TYPE  \\\n",
       "UNIQUE KEY                       ...                                       \n",
       "3146911                NaN       ...         SPORT UTILITY/STATION WAGON   \n",
       "3146180                NaN       ...                   PASSENGER VEHICLE   \n",
       "3146384                NaN       ...                   PASSENGER VEHICLE   \n",
       "3146013                NaN       ...                                 BUS   \n",
       "3146120                NaN       ...                             UNKNOWN   \n",
       "\n",
       "               VEHICLE 2 TYPE  VEHICLE 3 TYPE  VEHICLE 4 TYPE  VEHICLE 5 TYPE  \\\n",
       "UNIQUE KEY                                                                      \n",
       "3146911                   NaN             NaN             NaN             NaN   \n",
       "3146180                   NaN             NaN             NaN             NaN   \n",
       "3146384               UNKNOWN             NaN             NaN             NaN   \n",
       "3146013     PASSENGER VEHICLE             NaN             NaN             NaN   \n",
       "3146120     PASSENGER VEHICLE             NaN             NaN             NaN   \n",
       "\n",
       "                       VEHICLE 1 FACTOR  VEHICLE 2 FACTOR  VEHICLE 3 FACTOR  \\\n",
       "UNIQUE KEY                                                                    \n",
       "3146911     TRAFFIC CONTROL DISREGARDED               NaN               NaN   \n",
       "3146180                  ANIMALS ACTION               NaN               NaN   \n",
       "3146384                 FATIGUED/DROWSY       UNSPECIFIED               NaN   \n",
       "3146013              LOST CONSCIOUSNESS               NaN               NaN   \n",
       "3146120                     UNSPECIFIED       UNSPECIFIED               NaN   \n",
       "\n",
       "           VEHICLE 4 FACTOR VEHICLE 5 FACTOR  \n",
       "UNIQUE KEY                                    \n",
       "3146911                 NaN              NaN  \n",
       "3146180                 NaN              NaN  \n",
       "3146384                 NaN              NaN  \n",
       "3146013                 NaN              NaN  \n",
       "3146120                 NaN              NaN  \n",
       "\n",
       "[5 rows x 28 columns]"
      ]
     },
     "execution_count": 3,
     "metadata": {},
     "output_type": "execute_result"
    }
   ],
   "source": [
    "df.head()"
   ]
  },
  {
   "cell_type": "code",
   "execution_count": 4,
   "metadata": {
    "collapsed": true
   },
   "outputs": [],
   "source": [
    "# Filter to get all 2016 records\n",
    "df = df[ (df['DATE'] > datetime.date(year=2015,month=12,day=31)) & (df['DATE'] < datetime.date(year=2017,month=1,day=1))]"
   ]
  },
  {
   "cell_type": "code",
   "execution_count": 5,
   "metadata": {
    "collapsed": true
   },
   "outputs": [],
   "source": [
    "# Extract month from the date column\n",
    "df['MONTH']= df['DATE'].apply(lambda x: x.month)"
   ]
  },
  {
   "cell_type": "code",
   "execution_count": 6,
   "metadata": {
    "collapsed": true
   },
   "outputs": [],
   "source": [
    "# Filter records for Manhattan\n",
    "df_manhattan = df[df['BOROUGH'] == 'MANHATTAN']"
   ]
  },
  {
   "cell_type": "code",
   "execution_count": 7,
   "metadata": {
    "collapsed": false
   },
   "outputs": [],
   "source": [
    "# Group all the records for each month\n",
    "df = df.groupby(by='MONTH').count()"
   ]
  },
  {
   "cell_type": "code",
   "execution_count": 8,
   "metadata": {
    "collapsed": false
   },
   "outputs": [
    {
     "data": {
      "text/plain": [
       "MONTH\n",
       "1    18101\n",
       "2    15985\n",
       "3    18471\n",
       "4    18331\n",
       "5    20052\n",
       "Name: NYC, dtype: int64"
      ]
     },
     "execution_count": 8,
     "metadata": {},
     "output_type": "execute_result"
    }
   ],
   "source": [
    "# Renaming the Date column header to indicate the count of collisions in NYC in the new dataframe\n",
    "df['NYC'] = df['DATE']\n",
    "df = df['NYC']\n",
    "df.head()"
   ]
  },
  {
   "cell_type": "code",
   "execution_count": 9,
   "metadata": {
    "collapsed": true
   },
   "outputs": [],
   "source": [
    "# Group the records in Manhattan dataframe for each month\n",
    "df_manhattan = df_manhattan.groupby(by='MONTH').count()\n",
    "# Renaming the Date column header to indicate the count of collisions in Manhattan in the new dataframe\n",
    "df_manhattan['MANHATTAN'] = df_manhattan['DATE']\n",
    "df_manhattan = df_manhattan['MANHATTAN']"
   ]
  },
  {
   "cell_type": "code",
   "execution_count": 10,
   "metadata": {
    "collapsed": false
   },
   "outputs": [],
   "source": [
    "# Concatenating the dataframes for Manhattan and NYC\n",
    "final_percentage = pd.concat([df_manhattan,df], axis=1)"
   ]
  },
  {
   "cell_type": "code",
   "execution_count": 11,
   "metadata": {
    "collapsed": false
   },
   "outputs": [],
   "source": [
    "# Calculating the percentage of collisions in Manhattan to NYC and adding the column in the final dataframe\n",
    "final_percentage['PERCENTAGE'] = final_percentage['MANHATTAN'] / final_percentage['NYC']"
   ]
  },
  {
   "cell_type": "code",
   "execution_count": 12,
   "metadata": {
    "collapsed": true
   },
   "outputs": [],
   "source": [
    "# Creating the output folder\n",
    "os.makedirs('Output', exist_ok=True)"
   ]
  },
  {
   "cell_type": "code",
   "execution_count": 13,
   "metadata": {
    "collapsed": true
   },
   "outputs": [],
   "source": [
    "# Saving the final csv in the Output folder\n",
    "final_percentage.to_csv('Output/Q1Part1.csv')"
   ]
  },
  {
   "cell_type": "code",
   "execution_count": 14,
   "metadata": {
    "collapsed": false
   },
   "outputs": [
    {
     "name": "stdout",
     "output_type": "stream",
     "text": [
      "Completed the analysis for calculating percentage of collisions in Manhattan compared to those in NYC for each month. Output is saved as a csv file in the location Output/Q1Part1.csv\n"
     ]
    }
   ],
   "source": [
    "print('Completed the analysis for calculating percentage of collisions in Manhattan compared to those in NYC for each month. Output is saved as a csv file in the location Output/Q1Part1.csv')"
   ]
  },
  {
   "cell_type": "code",
   "execution_count": null,
   "metadata": {
    "collapsed": true
   },
   "outputs": [],
   "source": []
  }
 ],
 "metadata": {
  "anaconda-cloud": {},
  "kernelspec": {
   "display_name": "Python [conda root]",
   "language": "python",
   "name": "conda-root-py"
  },
  "language_info": {
   "codemirror_mode": {
    "name": "ipython",
    "version": 3
   },
   "file_extension": ".py",
   "mimetype": "text/x-python",
   "name": "python",
   "nbconvert_exporter": "python",
   "pygments_lexer": "ipython3",
   "version": "3.5.2"
  }
 },
 "nbformat": 4,
 "nbformat_minor": 1
}
