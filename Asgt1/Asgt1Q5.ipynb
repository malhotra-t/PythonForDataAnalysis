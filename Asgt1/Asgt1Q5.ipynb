{
 "cells": [
  {
   "cell_type": "markdown",
   "metadata": {},
   "source": [
    "## Q5 Use Gutenberg and Web_text data. Find out what are the top 5 words that Shakespeare used but we do not use in currently."
   ]
  },
  {
   "cell_type": "code",
   "execution_count": 1,
   "metadata": {
    "collapsed": true
   },
   "outputs": [],
   "source": [
    "from nltk.corpus import gutenberg\n",
    "from nltk.corpus import webtext\n",
    "from nltk.corpus import nps_chat"
   ]
  },
  {
   "cell_type": "markdown",
   "metadata": {},
   "source": [
    "### Take top 50 words from Shakespeare (all 3 books)"
   ]
  },
  {
   "cell_type": "code",
   "execution_count": 2,
   "metadata": {
    "collapsed": false
   },
   "outputs": [
    {
     "name": "stdout",
     "output_type": "stream",
     "text": [
      "The top 50 most frequent words and their frequency are:\n",
      "\n"
     ]
    },
    {
     "data": {
      "text/plain": [
       "[('by', 256),\n",
       " ('on', 276),\n",
       " ('then', 278),\n",
       " ('do', 287),\n",
       " ('-', 293),\n",
       " ('lord', 293),\n",
       " ('no', 297),\n",
       " ('shall', 300),\n",
       " ('s', 303),\n",
       " ('are', 305),\n",
       " ('we', 306),\n",
       " ('thou', 312),\n",
       " ('all', 321),\n",
       " ('ham', 337),\n",
       " ('our', 346),\n",
       " ('will', 384),\n",
       " ('so', 424),\n",
       " ('as', 427),\n",
       " ('him', 434),\n",
       " ('haue', 448),\n",
       " (';', 456),\n",
       " ('what', 458),\n",
       " ('be', 476),\n",
       " ('he', 491),\n",
       " ('but', 510),\n",
       " ('your', 528),\n",
       " ('me', 529),\n",
       " ('for', 533),\n",
       " ('this', 546),\n",
       " ('with', 557),\n",
       " ('his', 588),\n",
       " ('d', 662),\n",
       " ('not', 722),\n",
       " ('is', 769),\n",
       " ('it', 778),\n",
       " ('in', 826),\n",
       " ('that', 904),\n",
       " ('my', 914),\n",
       " ('?', 996),\n",
       " ('a', 1019),\n",
       " ('you', 1124),\n",
       " ('of', 1302),\n",
       " ('i', 1455),\n",
       " ('to', 1515),\n",
       " (':', 1541),\n",
       " (\"'\", 1750),\n",
       " ('and', 2036),\n",
       " ('the', 2222),\n",
       " ('.', 4417),\n",
       " (',', 7058)]"
      ]
     },
     "execution_count": 2,
     "metadata": {},
     "output_type": "execute_result"
    }
   ],
   "source": [
    "import collections\n",
    "gutenberg.fileids()\n",
    "shakWords = gutenberg.words(['shakespeare-caesar.txt', 'shakespeare-hamlet.txt', 'shakespeare-macbeth.txt'])\n",
    "D = {}\n",
    "for word in shakWords:\n",
    "    word = word.lower()\n",
    "    if word in D:\n",
    "        val = D[word]\n",
    "        val = val + 1\n",
    "        D[word] = val\n",
    "    else:\n",
    "        D[word] = 1\n",
    "sortedDict = collections.OrderedDict(sorted(D.items(), key=lambda t: t[1]))\n",
    "sortedList = list(sortedDict.items())\n",
    "print('The top 50 most frequent words and their frequency are:\\n')\n",
    "sortedList[-50:]"
   ]
  },
  {
   "cell_type": "markdown",
   "metadata": {},
   "source": [
    "### Take top 50 from Web_text (all the records)."
   ]
  },
  {
   "cell_type": "code",
   "execution_count": 3,
   "metadata": {
    "collapsed": false
   },
   "outputs": [
    {
     "name": "stdout",
     "output_type": "stream",
     "text": [
      "The top 50 most frequent words and their frequency are:\n",
      "\n"
     ]
    },
    {
     "data": {
      "text/plain": [
       "[('m', 1179),\n",
       " ('can', 1204),\n",
       " ('he', 1219),\n",
       " ('was', 1221),\n",
       " ('are', 1228),\n",
       " ('don', 1241),\n",
       " ('[', 1244),\n",
       " (']', 1245),\n",
       " ('be', 1318),\n",
       " ('me', 1331),\n",
       " ('what', 1362),\n",
       " ('so', 1381),\n",
       " ('have', 1410),\n",
       " ('but', 1447),\n",
       " ('this', 1491),\n",
       " ('no', 1539),\n",
       " ('...', 1542),\n",
       " ('my', 1558),\n",
       " ('like', 1696),\n",
       " ('2', 1709),\n",
       " ('when', 1833),\n",
       " ('for', 1908),\n",
       " ('with', 1943),\n",
       " ('1', 2261),\n",
       " ('\"', 2601),\n",
       " ('not', 2665),\n",
       " ('guy', 2751),\n",
       " ('that', 2792),\n",
       " ('girl', 2956),\n",
       " ('is', 3024),\n",
       " ('of', 3186),\n",
       " ('on', 3281),\n",
       " ('-', 3288),\n",
       " ('s', 3320),\n",
       " ('it', 3385),\n",
       " ('t', 3547),\n",
       " ('#', 3710),\n",
       " ('!', 4059),\n",
       " ('in', 4293),\n",
       " ('?', 4343),\n",
       " ('and', 4516),\n",
       " ('you', 5812),\n",
       " ('a', 6199),\n",
       " ('to', 6325),\n",
       " ('the', 7909),\n",
       " ('i', 7925),\n",
       " (\"'\", 10737),\n",
       " (',', 12320),\n",
       " (':', 14114),\n",
       " ('.', 17689)]"
      ]
     },
     "execution_count": 3,
     "metadata": {},
     "output_type": "execute_result"
    }
   ],
   "source": [
    "import collections\n",
    "webtext.fileids()\n",
    "modernWords = webtext.words()\n",
    "D = {}\n",
    "for word in modernWords:\n",
    "    word = word.lower()\n",
    "    if word in D:\n",
    "        val = D[word]\n",
    "        val = val + 1\n",
    "        D[word] = val\n",
    "    else:\n",
    "        D[word] = 1\n",
    "sortedDict = collections.OrderedDict(sorted(D.items(), key=lambda t: t[1]))\n",
    "sortedList = list(sortedDict.items())\n",
    "print('The top 50 most frequent words and their frequency are:\\n')\n",
    "sortedList[-50:]"
   ]
  },
  {
   "cell_type": "markdown",
   "metadata": {},
   "source": [
    "### Remove punctuation and stop words for Gutenberg"
   ]
  },
  {
   "cell_type": "code",
   "execution_count": 4,
   "metadata": {
    "collapsed": true
   },
   "outputs": [],
   "source": [
    "from nltk.corpus import stopwords\n",
    "import string"
   ]
  },
  {
   "cell_type": "code",
   "execution_count": 17,
   "metadata": {
    "collapsed": false
   },
   "outputs": [
    {
     "name": "stdout",
     "output_type": "stream",
     "text": [
      "The top 50 most frequent words and their frequency are:\n",
      "\n"
     ]
    },
    {
     "data": {
      "text/plain": [
       "[('haue', 448),\n",
       " ('ham', 337),\n",
       " ('thou', 312),\n",
       " ('shall', 300),\n",
       " ('lord', 293),\n",
       " ('come', 232),\n",
       " ('king', 231),\n",
       " ('enter', 230),\n",
       " ('good', 218),\n",
       " ('let', 217),\n",
       " ('thy', 202),\n",
       " ('caesar', 193),\n",
       " ('vs', 184),\n",
       " ('know', 176),\n",
       " ('thee', 174),\n",
       " ('would', 170),\n",
       " ('like', 162),\n",
       " ('vpon', 162),\n",
       " ('brutus', 162),\n",
       " ('bru', 153),\n",
       " ('well', 152),\n",
       " ('hath', 144),\n",
       " ('selfe', 143),\n",
       " ('man', 139),\n",
       " ('may', 138),\n",
       " ('macb', 137),\n",
       " ('yet', 136),\n",
       " ('heere', 135),\n",
       " ('say', 130),\n",
       " ('must', 130),\n",
       " ('tis', 129),\n",
       " ('th', 125),\n",
       " ('speake', 119),\n",
       " ('make', 119),\n",
       " ('loue', 119),\n",
       " ('giue', 118),\n",
       " ('see', 116),\n",
       " ('time', 115),\n",
       " ('sir', 114),\n",
       " ('night', 114),\n",
       " ('one', 112),\n",
       " ('st', 110),\n",
       " ('cassi', 107),\n",
       " ('ile', 106),\n",
       " ('doe', 103),\n",
       " ('hamlet', 100),\n",
       " ('go', 100),\n",
       " ('men', 96),\n",
       " ('hor', 95),\n",
       " ('vp', 94)]"
      ]
     },
     "execution_count": 17,
     "metadata": {},
     "output_type": "execute_result"
    }
   ],
   "source": [
    "stopWords = set(stopwords.words('english'))\n",
    "shakWords = gutenberg.words(['shakespeare-caesar.txt', 'shakespeare-hamlet.txt', 'shakespeare-macbeth.txt'])\n",
    "shakWords = [w.lower() for w in shakWords if w.lower() not in stopWords]\n",
    "shakWords = [w.lower() for w in shakWords if w.lower() not in string.punctuation]\n",
    "D = {}\n",
    "for word in shakWords:\n",
    "    word = word.lower()\n",
    "    if word in D:\n",
    "        val = D[word]\n",
    "        val = val + 1\n",
    "        D[word] = val\n",
    "    else:\n",
    "        D[word] = 1\n",
    "sortedDict = collections.OrderedDict(sorted(D.items(), key=lambda t: t[1], reverse = True))\n",
    "sortedList = list(sortedDict.items())\n",
    "print('The top 50 most frequent words and their frequency are:\\n')\n",
    "shakTop50 = sortedList[0:50]\n",
    "shakTop50"
   ]
  },
  {
   "cell_type": "markdown",
   "metadata": {},
   "source": [
    "### Remove punctuation and stop words for Webtext."
   ]
  },
  {
   "cell_type": "code",
   "execution_count": 18,
   "metadata": {
    "collapsed": false
   },
   "outputs": [
    {
     "name": "stdout",
     "output_type": "stream",
     "text": [
      "The top 50 most frequent words and their frequency are:\n",
      "\n"
     ]
    },
    {
     "data": {
      "text/plain": [
       "[('girl', 2956),\n",
       " ('guy', 2751),\n",
       " ('like', 1696),\n",
       " ('man', 1075),\n",
       " ('know', 1025),\n",
       " ('woman', 998),\n",
       " ('yeah', 895),\n",
       " ('page', 887),\n",
       " ('firefox', 879),\n",
       " ('get', 869),\n",
       " ('new', 790),\n",
       " ('chick', 714),\n",
       " ('one', 700),\n",
       " ('oh', 682),\n",
       " ('open', 679),\n",
       " ('window', 670),\n",
       " ('good', 644),\n",
       " ('bookmarks', 598),\n",
       " ('teen', 587),\n",
       " ('well', 586),\n",
       " ('firebird', 583),\n",
       " ('cell', 577),\n",
       " ('right', 576),\n",
       " ('go', 564),\n",
       " ('work', 537),\n",
       " ('bar', 536),\n",
       " ('menu', 530),\n",
       " ('tab', 529),\n",
       " ('lady', 524),\n",
       " ('toolbar', 518),\n",
       " ('boy', 488),\n",
       " ('want', 485),\n",
       " ('browser', 484),\n",
       " ('think', 484),\n",
       " ('jack', 483),\n",
       " ('bookmark', 482),\n",
       " ('old', 475),\n",
       " ('really', 473),\n",
       " ('going', 460),\n",
       " ('download', 442),\n",
       " ('url', 440),\n",
       " ('back', 434),\n",
       " ('time', 432),\n",
       " ('black', 422),\n",
       " ('manager', 420),\n",
       " ('little', 419),\n",
       " ('got', 409),\n",
       " ('crash', 396),\n",
       " ('would', 392),\n",
       " ('button', 386)]"
      ]
     },
     "execution_count": 18,
     "metadata": {},
     "output_type": "execute_result"
    }
   ],
   "source": [
    "from nltk.tokenize import RegexpTokenizer\n",
    "tokenizer = RegexpTokenizer(r'\\w{2,}')\n",
    "stopWords = set(stopwords.words('english'))\n",
    "modernWords = tokenizer.tokenize(webtext.raw())\n",
    "modernWords = [w.lower() for w in modernWords if w.lower() not in stopWords]\n",
    "modernWords = [w.lower() for w in modernWords if w.lower() not in string.punctuation]\n",
    "D = {}\n",
    "for word in modernWords:\n",
    "    word = word.lower()\n",
    "    if word in D:\n",
    "        val = D[word]\n",
    "        val = val + 1\n",
    "        D[word] = val\n",
    "    else:\n",
    "        D[word] = 1\n",
    "sortedDict = collections.OrderedDict(sorted(D.items(), key=lambda t: t[1], reverse = True))\n",
    "sortedList = list(sortedDict.items())\n",
    "print('The top 50 most frequent words and their frequency are:\\n')\n",
    "modernTop50 = sortedList[0:50]\n",
    "modernTop50"
   ]
  },
  {
   "cell_type": "markdown",
   "metadata": {},
   "source": [
    "### Remove the words we still use today, and get the unused list. Show the top 5 elements. "
   ]
  },
  {
   "cell_type": "code",
   "execution_count": 23,
   "metadata": {
    "collapsed": false
   },
   "outputs": [
    {
     "name": "stdout",
     "output_type": "stream",
     "text": [
      "Top 5 words we don't use which Shakespeare used are: ['haue', 'ham', 'thou', 'shall', 'lord']\n"
     ]
    }
   ],
   "source": [
    "import collections\n",
    "sortedDictShak = collections.OrderedDict(shakTop50)\n",
    "sortedDictMod = collections.OrderedDict(modernTop50)\n",
    "shakUniquePopular = [w for w in sortedDictShak if not w in sortedDictMod]\n",
    "print(\"Top 5 words we don't use which Shakespeare used are:\", shakUniquePopular[0:5])\n"
   ]
  },
  {
   "cell_type": "code",
   "execution_count": null,
   "metadata": {
    "collapsed": true
   },
   "outputs": [],
   "source": []
  }
 ],
 "metadata": {
  "kernelspec": {
   "display_name": "Python [conda root]",
   "language": "python",
   "name": "conda-root-py"
  },
  "language_info": {
   "codemirror_mode": {
    "name": "ipython",
    "version": 3
   },
   "file_extension": ".py",
   "mimetype": "text/x-python",
   "name": "python",
   "nbconvert_exporter": "python",
   "pygments_lexer": "ipython3",
   "version": "3.5.2"
  }
 },
 "nbformat": 4,
 "nbformat_minor": 1
}
