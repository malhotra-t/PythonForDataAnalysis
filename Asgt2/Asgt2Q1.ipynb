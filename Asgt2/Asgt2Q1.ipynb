{
 "cells": [
  {
   "cell_type": "markdown",
   "metadata": {},
   "source": [
    "## Q1 Learn and understand Zipf’s Law"
   ]
  },
  {
   "cell_type": "markdown",
   "metadata": {},
   "source": [
    "### Pick any file (or files) in NLTK package. Prove if Zipf’s Law works in Natural Language or not."
   ]
  },
  {
   "cell_type": "code",
   "execution_count": 10,
   "metadata": {
    "collapsed": true
   },
   "outputs": [],
   "source": [
    "from nltk.corpus import gutenberg\n",
    "import glob\n",
    "import collections\n",
    "import string\n",
    "import csv\n",
    "import os\n",
    "import numpy as np\n",
    "import matplotlib.pyplot as plt"
   ]
  },
  {
   "cell_type": "code",
   "execution_count": 11,
   "metadata": {
    "collapsed": false
   },
   "outputs": [
    {
     "data": {
      "text/plain": [
       "['C:\\\\Users\\\\parit\\\\Documents\\\\PythonINFO7374\\\\PythonAssignments\\\\PythonForDataAnalysis\\\\Asgt2/Input\\\\chesterton-ball.txt',\n",
       " 'C:\\\\Users\\\\parit\\\\Documents\\\\PythonINFO7374\\\\PythonAssignments\\\\PythonForDataAnalysis\\\\Asgt2/Input\\\\chesterton-brown.txt',\n",
       " 'C:\\\\Users\\\\parit\\\\Documents\\\\PythonINFO7374\\\\PythonAssignments\\\\PythonForDataAnalysis\\\\Asgt2/Input\\\\chesterton-thursday.txt']"
      ]
     },
     "execution_count": 11,
     "metadata": {},
     "output_type": "execute_result"
    }
   ],
   "source": [
    "path = os.getcwd() + '/Input/chesterton*'\n",
    "path = glob.glob(path)\n",
    "path   #taking the gutenberg dataset - 3 chesterton books"
   ]
  },
  {
   "cell_type": "markdown",
   "metadata": {},
   "source": [
    "### Count words and save in a list of tuples"
   ]
  },
  {
   "cell_type": "code",
   "execution_count": 12,
   "metadata": {
    "collapsed": false
   },
   "outputs": [],
   "source": [
    "chesWords = gutenberg.words(path)\n",
    "D = {}\n",
    "for word in chesWords:        #Getting the word count for the above 3 books\n",
    "    word = word.lower()\n",
    "    if word in D:\n",
    "        val = D[word]\n",
    "        val = val + 1\n",
    "        D[word] = val\n",
    "    else:\n",
    "        D[word] = 1\n",
    "sortedDict = collections.OrderedDict(sorted(D.items(), key=lambda t: t[1],reverse = True)) \n",
    "sortedList = list(sortedDict.items())   #Sorting the (word,wordCount) tuple based on the count"
   ]
  },
  {
   "cell_type": "markdown",
   "metadata": {},
   "source": [
    "### Save the word, rank and count in a csv file"
   ]
  },
  {
   "cell_type": "code",
   "execution_count": 13,
   "metadata": {
    "collapsed": false
   },
   "outputs": [],
   "source": [
    "with open('chestertonWordRanks.csv', 'w', newline = '') as outputFile:  #Creating a csv file with 'write' permission\n",
    "    csvWriter = csv.writer(outputFile, delimiter = ',')\n",
    "    rank = 0\n",
    "    for wordCountTuple in sortedList:      #Calculating the word rank based on word count in the sorted list\n",
    "        rank = rank + 1\n",
    "        word = wordCountTuple[0]\n",
    "        count = wordCountTuple[1]\n",
    "        word = [c for c in word if c not in set(string.punctuation)]   #Removing all the punctuation marks\n",
    "        if word:\n",
    "            csvWriter.writerow((''.join(word), rank, count))\n"
   ]
  },
  {
   "cell_type": "markdown",
   "metadata": {},
   "source": [
    "### Use the csv data to plot log-log graph"
   ]
  },
  {
   "cell_type": "code",
   "execution_count": 14,
   "metadata": {
    "collapsed": false
   },
   "outputs": [
    {
     "data": {
      "image/png": "[encoded data removed]",
      "text/plain": [
       "<matplotlib.figure.Figure at 0x1ffcced5908>"
      ]
     },
     "metadata": {},
     "output_type": "display_data"
    }
   ],
   "source": [
    "csvData = np.genfromtxt('chestertonWordRanks.csv', delimiter = ',')\n",
    "x = csvData[:,1]\n",
    "y = csvData[:,2]\n",
    "\n",
    "plt.loglog(x, y, basex=np.e, basey=np.e)\n",
    "axes = plt.axes()\n",
    "axes.set_xscale('log')\n",
    "axes.set_yscale('log')\n",
    "axes.set_xlabel('log (rank)')\n",
    "axes.set_ylabel('log (count)')\n",
    "plt.show()"
   ]
  },
  {
   "cell_type": "markdown",
   "metadata": {},
   "source": [
    "## In conclusion, looking at the loglog graph above, we can say that the natural language sample chosen (Chesterton books) obeys the Zipf's law."
   ]
  },
  {
   "cell_type": "code",
   "execution_count": null,
   "metadata": {
    "collapsed": true
   },
   "outputs": [],
   "source": []
  }
 ],
 "metadata": {
  "anaconda-cloud": {},
  "kernelspec": {
   "display_name": "Python [conda root]",
   "language": "python",
   "name": "conda-root-py"
  },
  "language_info": {
   "codemirror_mode": {
    "name": "ipython",
    "version": 3
   },
   "file_extension": ".py",
   "mimetype": "text/x-python",
   "name": "python",
   "nbconvert_exporter": "python",
   "pygments_lexer": "ipython3",
   "version": "3.5.2"
  }
 },
 "nbformat": 4,
 "nbformat_minor": 1
}
