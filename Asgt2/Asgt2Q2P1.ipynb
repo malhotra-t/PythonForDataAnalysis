{
 "cells": [
  {
   "cell_type": "markdown",
   "metadata": {},
   "source": [
    "## Organize files into structured categories"
   ]
  },
  {
   "cell_type": "code",
   "execution_count": 1,
   "metadata": {
    "collapsed": true
   },
   "outputs": [],
   "source": [
    "import os\n",
    "import glob\n",
    "import json\n",
    "import shutil\n",
    "import string"
   ]
  },
  {
   "cell_type": "markdown",
   "metadata": {},
   "source": [
    "### Read the files from the input 'Data' folder"
   ]
  },
  {
   "cell_type": "code",
   "execution_count": 3,
   "metadata": {
    "collapsed": false
   },
   "outputs": [],
   "source": [
    "def createDirPath(directoryList, fileName):\n",
    "    fileNameCorrected = ''.join(c for c in fileName if c not in string.punctuation)\n",
    "    totalPath = 'DataProcessed/'\n",
    "    for dirPath in directoryList:\n",
    "        totalPath = totalPath + dirPath.strip()\n",
    "        totalPath = totalPath + '/'\n",
    "    return totalPath + fileNameCorrected + '.json'   "
   ]
  },
  {
   "cell_type": "code",
   "execution_count": 6,
   "metadata": {
    "collapsed": false
   },
   "outputs": [
    {
     "name": "stdout",
     "output_type": "stream",
     "text": [
      "Started the process of organizing files into a well-formed structure based on the values inside the json files.\n",
      "Completed organizing files into a well-formed structure based on the values inside the json files.\n"
     ]
    }
   ],
   "source": [
    "dataFolder = os.getcwd() + '/Data/*.json'\n",
    "\n",
    "print('Started the process of organizing files into a well-formed structure based on the values inside the json files.')\n",
    "\n",
    "for jsonFile in glob.glob(dataFolder):\n",
    "    with open(jsonFile, 'r') as openJson:\n",
    "        jsonContent = json.load(openJson)\n",
    "        countryCode = jsonContent['location']['country']\n",
    "        stateCode = jsonContent['location']['state']\n",
    "        cityName = jsonContent['location']['city']\n",
    "        itemType = jsonContent['term']\n",
    "        categoryList = jsonContent['categories']\n",
    "        itemName = jsonContent['name']\n",
    "        \n",
    "        for cat in categoryList:\n",
    "            fileDestination = createDirPath([countryCode, stateCode, cityName, itemType, cat['alias']], itemName)\n",
    "            if not os.path.exists(os.path.dirname(fileDestination)):\n",
    "                os.makedirs(os.path.dirname(fileDestination))\n",
    "                \n",
    "            shutil.copyfile(jsonFile, fileDestination)\n",
    "\n",
    "print('Completed organizing files into a well-formed structure based on the values inside the json files.')            "
   ]
  },
  {
   "cell_type": "code",
   "execution_count": null,
   "metadata": {
    "collapsed": true
   },
   "outputs": [],
   "source": []
  },
  {
   "cell_type": "code",
   "execution_count": null,
   "metadata": {
    "collapsed": true
   },
   "outputs": [],
   "source": []
  }
 ],
 "metadata": {
  "anaconda-cloud": {},
  "kernelspec": {
   "display_name": "Python [conda root]",
   "language": "python",
   "name": "conda-root-py"
  },
  "language_info": {
   "codemirror_mode": {
    "name": "ipython",
    "version": 3
   },
   "file_extension": ".py",
   "mimetype": "text/x-python",
   "name": "python",
   "nbconvert_exporter": "python",
   "pygments_lexer": "ipython3",
   "version": "3.5.2"
  }
 },
 "nbformat": 4,
 "nbformat_minor": 1
}
