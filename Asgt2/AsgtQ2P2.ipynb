{
 "cells": [
  {
   "cell_type": "markdown",
   "metadata": {},
   "source": [
    "## Contruct Restaurant Open Timings spreadsheet using given dataset"
   ]
  },
  {
   "cell_type": "code",
   "execution_count": null,
   "metadata": {
    "collapsed": true
   },
   "outputs": [],
   "source": [
    "import os\n",
    "import glob\n",
    "import json\n",
    "import shutil\n",
    "import csv"
   ]
  },
  {
   "cell_type": "markdown",
   "metadata": {},
   "source": [
    "### Extract the useful information pertinent to the restaurant operation timings"
   ]
  },
  {
   "cell_type": "code",
   "execution_count": 3,
   "metadata": {
    "collapsed": false
   },
   "outputs": [
    {
     "name": "stdout",
     "output_type": "stream",
     "text": [
      "Started the process of parsing the files.\n",
      "Saved the information in a variable\n"
     ]
    }
   ],
   "source": [
    "dataFolder = os.getcwd() + '/Data/*.json'\n",
    "\n",
    "print('Started the process of parsing the files.')\n",
    "\n",
    "allRestaurantHours = []\n",
    "\n",
    "for jsonFile in glob.glob(dataFolder):             # read files one by one and process them\n",
    "    with open(jsonFile, 'r') as openJson:\n",
    "        jsonContent = json.load(openJson)\n",
    "        itemType = jsonContent['term']\n",
    "        \n",
    "        if itemType == 'restaurants':\n",
    "            timings = jsonContent.get('hours', None)\n",
    "            if (timings) :\n",
    "                countryCode = jsonContent['location']['country']\n",
    "                cityName = jsonContent['location']['city']        \n",
    "                itemName = jsonContent['name']\n",
    "                \n",
    "                restaurantHours = [(itemName, countryCode, cityName, details['day'], details['start'], details['end']) \n",
    "                                   for details in timings[0]['open']]\n",
    "                \n",
    "                allRestaurantHours += restaurantHours # save details for all restaurants in allRestaurantHours\n",
    "\n",
    "print('Saved the information in a variable')                "
   ]
  },
  {
   "cell_type": "markdown",
   "metadata": {},
   "source": [
    "### Write the processed information to the CSV file"
   ]
  },
  {
   "cell_type": "code",
   "execution_count": 6,
   "metadata": {
    "collapsed": false
   },
   "outputs": [
    {
     "name": "stdout",
     "output_type": "stream",
     "text": [
      "Completed saving the timings information to the csv\n"
     ]
    }
   ],
   "source": [
    "print('Started the process of parsing the files.')\n",
    "with open('restaurantHours.csv', 'w', newline = '',  encoding='utf-8') as restaurantHoursFile:\n",
    "    timingsWriter = csv.writer(restaurantHoursFile, delimiter =',')\n",
    "    timingsWriter.writerow(['Name of restaurant','Country Code','City Name','Day','Start Time','End Time'])\n",
    "    for timing in allRestaurantHours:    # write contents of the list allRestaurantHours to csv\n",
    "        timingsWriter.writerow(timing)\n",
    "print('Completed saving the timings information to the csv')\n"
   ]
  },
  {
   "cell_type": "code",
   "execution_count": null,
   "metadata": {
    "collapsed": true
   },
   "outputs": [],
   "source": []
  }
 ],
 "metadata": {
  "anaconda-cloud": {},
  "kernelspec": {
   "display_name": "Python [conda root]",
   "language": "python",
   "name": "conda-root-py"
  },
  "language_info": {
   "codemirror_mode": {
    "name": "ipython",
    "version": 3
   },
   "file_extension": ".py",
   "mimetype": "text/x-python",
   "name": "python",
   "nbconvert_exporter": "python",
   "pygments_lexer": "ipython3",
   "version": "3.5.2"
  }
 },
 "nbformat": 4,
 "nbformat_minor": 1
}
