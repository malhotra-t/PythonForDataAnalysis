{
 "cells": [
  {
   "cell_type": "markdown",
   "metadata": {},
   "source": [
    "## Q2 Find out the frequency of 2 charactes and give a sorted list of the same."
   ]
  },
  {
   "cell_type": "code",
   "execution_count": 1,
   "metadata": {
    "collapsed": true
   },
   "outputs": [],
   "source": [
    "from nltk.corpus import gutenberg"
   ]
  },
  {
   "cell_type": "markdown",
   "metadata": {},
   "source": [
    "### Under package Gutenberg get content from file 'melville-moby_dick.txt.' (HINT: Words? Raw?)"
   ]
  },
  {
   "cell_type": "code",
   "execution_count": 3,
   "metadata": {
    "collapsed": false
   },
   "outputs": [
    {
     "data": {
      "text/plain": [
       "str"
      ]
     },
     "execution_count": 3,
     "metadata": {},
     "output_type": "execute_result"
    }
   ],
   "source": [
    "austenWords = gutenberg.raw('melville-moby_dick.txt')"
   ]
  },
  {
   "cell_type": "markdown",
   "metadata": {},
   "source": [
    "### Find out frequency of 26 characters. (Turn uppercase into lowercase and count as one character)"
   ]
  },
  {
   "cell_type": "code",
   "execution_count": 7,
   "metadata": {
    "collapsed": false
   },
   "outputs": [
    {
     "name": "stdout",
     "output_type": "stream",
     "text": [
      "The frequency of 26 characters are:\n",
      "\n"
     ]
    },
    {
     "data": {
      "text/plain": [
       "[('b', 16877),\n",
       " ('o', 69326),\n",
       " ('r', 52134),\n",
       " ('j', 1082),\n",
       " ('k', 8059),\n",
       " ('y', 16872),\n",
       " ('x', 1030),\n",
       " ('c', 22507),\n",
       " ('a', 77916),\n",
       " ('f', 20833),\n",
       " ('g', 20820),\n",
       " ('t', 87996),\n",
       " ('d', 38219),\n",
       " ('w', 22222),\n",
       " ('s', 64231),\n",
       " ('l', 42793),\n",
       " ('z', 632),\n",
       " ('i', 65434),\n",
       " ('u', 26697),\n",
       " ('m', 23277),\n",
       " ('n', 65617),\n",
       " ('e', 117092),\n",
       " ('p', 17255),\n",
       " ('h', 62896),\n",
       " ('v', 8598),\n",
       " ('q', 1556)]"
      ]
     },
     "execution_count": 7,
     "metadata": {},
     "output_type": "execute_result"
    }
   ],
   "source": [
    "aToz = 'abcdefghijklmnopqrstuvwxyz'\n",
    "D = {}\n",
    "for let in austenWords.lower():\n",
    "    if let in aToz:\n",
    "        if let in D:\n",
    "            val = D[let]\n",
    "            val = val + 1\n",
    "            D[let] = val\n",
    "        else:\n",
    "            D[let] = 1\n",
    "letFreqList = list(D.items())\n",
    "print('The frequency of 26 characters are:\\n')\n",
    "letFreqList"
   ]
  },
  {
   "cell_type": "markdown",
   "metadata": {},
   "source": [
    "### List all 26 characters in order base on their frequency. (From most frequent to least frequent)"
   ]
  },
  {
   "cell_type": "code",
   "execution_count": 11,
   "metadata": {
    "collapsed": false
   },
   "outputs": [
    {
     "name": "stdout",
     "output_type": "stream",
     "text": [
      "The sorted list of frequency of 26 characters is given below:\n",
      "\n"
     ]
    },
    {
     "data": {
      "text/plain": [
       "[('e', 117092),\n",
       " ('t', 87996),\n",
       " ('a', 77916),\n",
       " ('o', 69326),\n",
       " ('n', 65617),\n",
       " ('i', 65434),\n",
       " ('s', 64231),\n",
       " ('h', 62896),\n",
       " ('r', 52134),\n",
       " ('l', 42793),\n",
       " ('d', 38219),\n",
       " ('u', 26697),\n",
       " ('m', 23277),\n",
       " ('c', 22507),\n",
       " ('w', 22222),\n",
       " ('f', 20833),\n",
       " ('g', 20820),\n",
       " ('p', 17255),\n",
       " ('b', 16877),\n",
       " ('y', 16872),\n",
       " ('v', 8598),\n",
       " ('k', 8059),\n",
       " ('q', 1556),\n",
       " ('j', 1082),\n",
       " ('x', 1030),\n",
       " ('z', 632)]"
      ]
     },
     "execution_count": 11,
     "metadata": {},
     "output_type": "execute_result"
    }
   ],
   "source": [
    "import collections\n",
    "sortedDict = collections.OrderedDict(sorted(D.items(), key=lambda t: t[1], reverse = True))\n",
    "sortedList = list(sortedDict.items())\n",
    "print('The sorted list of frequency of 26 characters is given below:\\n')\n",
    "sortedList"
   ]
  },
  {
   "cell_type": "code",
   "execution_count": null,
   "metadata": {
    "collapsed": true
   },
   "outputs": [],
   "source": []
  }
 ],
 "metadata": {
  "kernelspec": {
   "display_name": "Python [conda root]",
   "language": "python",
   "name": "conda-root-py"
  },
  "language_info": {
   "codemirror_mode": {
    "name": "ipython",
    "version": 3
   },
   "file_extension": ".py",
   "mimetype": "text/x-python",
   "name": "python",
   "nbconvert_exporter": "python",
   "pygments_lexer": "ipython3",
   "version": "3.5.2"
  }
 },
 "nbformat": 4,
 "nbformat_minor": 1
}
