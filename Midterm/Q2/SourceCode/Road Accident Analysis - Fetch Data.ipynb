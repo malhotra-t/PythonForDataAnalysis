{
 "cells": [
  {
   "cell_type": "markdown",
   "metadata": {},
   "source": [
    "### Fetch Data from NYT API for 'Road Accidents' from 2012 to 2016"
   ]
  },
  {
   "cell_type": "markdown",
   "metadata": {},
   "source": [
    "#### Step - 1: Import Modules"
   ]
  },
  {
   "cell_type": "code",
   "execution_count": 1,
   "metadata": {
    "collapsed": false
   },
   "outputs": [],
   "source": [
    "import requests\n",
    "import os\n",
    "import json\n",
    "import time\n",
    "from wordcloud import WordCloud, STOPWORDS\n",
    "# Custom module for location names\n",
    "import locations\n",
    "import string"
   ]
  },
  {
   "cell_type": "markdown",
   "metadata": {},
   "source": [
    "#### Step 2: Check API key"
   ]
  },
  {
   "cell_type": "code",
   "execution_count": 2,
   "metadata": {
    "collapsed": false
   },
   "outputs": [
    {
     "name": "stdout",
     "output_type": "stream",
     "text": [
      "Value of the environment variable for api-key:  d49f3c0b89e942cb9f94f89a30e69e7f\n"
     ]
    }
   ],
   "source": [
    "nyt_api_key = os.getenv('NYT_ACCESS_KEY')\n",
    "articlesearch_url = 'https://api.nytimes.com/svc/search/v2/articlesearch.json'\n",
    "print('Value of the environment variable for api-key: ', nyt_api_key)"
   ]
  },
  {
   "cell_type": "markdown",
   "metadata": {},
   "source": [
    "#### Step 3: Prepare request parameters"
   ]
  },
  {
   "cell_type": "code",
   "execution_count": 3,
   "metadata": {
    "collapsed": false
   },
   "outputs": [],
   "source": [
    "# Request Map for Accidents\n",
    "reqparams = {'api-key':nyt_api_key, 'q':'road accident','begin_date':'20120101', 'end_date':'20161231', 'page':3}"
   ]
  },
  {
   "cell_type": "markdown",
   "metadata": {},
   "source": [
    "#### Step 4: Prepare function to save all documents in proper drectory structure for a given json"
   ]
  },
  {
   "cell_type": "code",
   "execution_count": 4,
   "metadata": {
    "collapsed": true
   },
   "outputs": [],
   "source": [
    "def save_docs(jsonObj):\n",
    "    # Save the response documents (first 10) in the 'data/accidents/<locations>' folders\n",
    "    for doc in jsonObj['response']['docs']:        \n",
    "        doc_location = None\n",
    "        # we are only interested in articles that state the location of accident\n",
    "        for kw in doc['keywords']:\n",
    "            if not doc_location:                            \n",
    "                if kw.get('name') == 'glocations':\n",
    "                    location_keyword = kw.get('value')\n",
    "                    location_val = None\n",
    "                    \n",
    "                    # Check presence of parentheses. For example, Delhi (India). We are interested in Country name only.\n",
    "                    if '(' in location_keyword:\n",
    "                        location_val = location_keyword[location_keyword.find(\"(\")+1:location_keyword.find(\")\")]\n",
    "                    else:\n",
    "                        location_val = location_keyword\n",
    "                    \n",
    "                    # Now check the value in list of countries, US states and NYC patterns                                   \n",
    "                    if location_val in locations.countries:\n",
    "                        doc_location = location_val\n",
    "                    elif location_val in locations.us_states:\n",
    "                        doc_location = 'US/' + location_val\n",
    "                    elif location_val.strip() in ['NYC', 'New York City']:\n",
    "                        doc_location = 'NYC'\n",
    "        ## Save doc in doc_location\n",
    "        if doc_location:\n",
    "            doc_path = '../Data/Accidents/' + doc_location + '/' + doc['_id'] + '.json'\n",
    "            # Create corresponding drectory\n",
    "            dir_name = os.path.dirname(doc_path)\n",
    "            if not os.path.exists(dir_name):\n",
    "                os.makedirs(dir_name)\n",
    "            # Dump the json into file   \n",
    "            with open(doc_path, 'w') as doc_file:\n",
    "                json.dump(doc, doc_file)\n",
    "    # End of doc save"
   ]
  },
  {
   "cell_type": "markdown",
   "metadata": {},
   "source": [
    "#### Step 5: Send HTTP GET requests to the Article Search API on NYT for the request map above"
   ]
  },
  {
   "cell_type": "code",
   "execution_count": 5,
   "metadata": {
    "collapsed": false
   },
   "outputs": [
    {
     "name": "stdout",
     "output_type": "stream",
     "text": [
      "Hits count: 2579\n",
      "Remaining pages: 257\n",
      "Done saving the docs for first request.\n"
     ]
    }
   ],
   "source": [
    "# Send HTTP request\n",
    "r = requests.get(articlesearch_url, params = reqparams)\n",
    "if r.status_code == 200:\n",
    "    # Parse json response\n",
    "    jsonObj = json.loads(r.text)\n",
    "    # get total hits to prepare for dynamically getting remaining docs\n",
    "    hits = jsonObj['response']['meta']['hits']\n",
    "    print('Hits count:', hits)\n",
    "    remaining_pages = int(hits / 10)\n",
    "    if hits % 10 == 0:\n",
    "        remaining_pages = remaining_pages - 1\n",
    "    print('Remaining pages:', remaining_pages)\n",
    "    \n",
    "    save_docs(jsonObj)\n",
    "    print('Done saving the docs for first request.')                        \n",
    "\n",
    "else:\n",
    "    print('Failed to get docs for first page')\n",
    "    print(r.text)    \n",
    "                        \n",
    "                            "
   ]
  },
  {
   "cell_type": "markdown",
   "metadata": {},
   "source": [
    "#### Step 6: Send requets for remaining pages using 'hits' from 1st request"
   ]
  },
  {
   "cell_type": "code",
   "execution_count": 6,
   "metadata": {
    "collapsed": false
   },
   "outputs": [
    {
     "name": "stdout",
     "output_type": "stream",
     "text": [
      "Failed to get docs for page: 5\n",
      "{\"message\":\"API rate limit exceeded\"}\n",
      "\n",
      "Failed to get docs for page: 16\n",
      "\n",
      "Failed to get docs for page: 20\n",
      "{\"message\":\"API rate limit exceeded\"}\n",
      "\n",
      "Failed to get docs for page: 50\n",
      "{\"message\":\"API rate limit exceeded\"}\n",
      "\n",
      "Failed to get docs for page: 55\n",
      "{\"message\":\"API rate limit exceeded\"}\n",
      "\n",
      "Failed to get docs for page: 60\n",
      "{\"message\":\"API rate limit exceeded\"}\n",
      "\n",
      "Failed to get docs for page: 65\n",
      "{\"message\":\"API rate limit exceeded\"}\n",
      "\n",
      "Failed to get docs for page: 80\n",
      "{\"message\":\"API rate limit exceeded\"}\n",
      "\n",
      "Failed to get docs for page: 90\n",
      "{\"message\":\"API rate limit exceeded\"}\n",
      "\n",
      "Failed to get docs for page: 120\n",
      "{\"message\":\"API rate limit exceeded\"}\n",
      "\n",
      "Done saving documents for remaining pages\n"
     ]
    }
   ],
   "source": [
    "# Get remaining articles in a loop\n",
    "for page_number in range(1, remaining_pages + 1):\n",
    "    if page_number > 120:\n",
    "        break\n",
    "    if page_number % 5: \n",
    "        time.sleep(2)\n",
    "    reqparams['page'] = page_number        \n",
    "    r = requests.get(articlesearch_url, params = reqparams)\n",
    "    if r.status_code == 200:\n",
    "        jsonObj = json.loads(r.text)\n",
    "        save_docs(jsonObj)\n",
    "    else:\n",
    "        print('Failed to get docs for page:', page_number)\n",
    "        print(r.text)\n",
    "print('Done saving documents for remaining pages')            "
   ]
  }
 ],
 "metadata": {
  "anaconda-cloud": {},
  "kernelspec": {
   "display_name": "Python [conda root]",
   "language": "python",
   "name": "conda-root-py"
  },
  "language_info": {
   "codemirror_mode": {
    "name": "ipython",
    "version": 3
   },
   "file_extension": ".py",
   "mimetype": "text/x-python",
   "name": "python",
   "nbconvert_exporter": "python",
   "pygments_lexer": "ipython3",
   "version": "3.5.2"
  }
 },
 "nbformat": 4,
 "nbformat_minor": 1
}
