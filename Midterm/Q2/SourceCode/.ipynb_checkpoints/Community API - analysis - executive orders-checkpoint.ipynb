{
 "cells": [
  {
   "cell_type": "markdown",
   "metadata": {},
   "source": [
    "## Public reaction on Executive Orders of Feb 1st 2017"
   ]
  },
  {
   "cell_type": "code",
   "execution_count": 1,
   "metadata": {
    "collapsed": true
   },
   "outputs": [],
   "source": [
    "import requests\n",
    "import os\n",
    "import json\n",
    "import time\n",
    "from wordcloud import WordCloud, STOPWORDS\n",
    "import string"
   ]
  },
  {
   "cell_type": "code",
   "execution_count": 2,
   "metadata": {
    "collapsed": false
   },
   "outputs": [
    {
     "name": "stdout",
     "output_type": "stream",
     "text": [
      "Value of the environment variable for api-key:  d49f3c0b89e942cb9f94f89a30e69e7f\n"
     ]
    }
   ],
   "source": [
    "nyt_api_key = os.getenv('NYT_ACCESS_KEY')\n",
    "community_url = 'http://api.nytimes.com/svc/community/v3/user-content/by-date.json'\n",
    "print('Value of the environment variable for api-key: ', nyt_api_key)"
   ]
  },
  {
   "cell_type": "code",
   "execution_count": 3,
   "metadata": {
    "collapsed": true
   },
   "outputs": [],
   "source": [
    "reqparams = {'api-key':nyt_api_key, 'date':'20170201'}"
   ]
  },
  {
   "cell_type": "code",
   "execution_count": 4,
   "metadata": {
    "collapsed": true
   },
   "outputs": [],
   "source": [
    "def save_docs(jsonObj):\n",
    "    # Save the response documents (first 10) in the 'data/accidents/<locations>' folders\n",
    "    for doc in jsonObj['results']['comments']:        \n",
    "        #comment_body = doc['commentBody']        \n",
    "        comment_id = doc['commentID']        \n",
    "        doc_path = '../Data/Community/' + str(comment_id) + '.json'\n",
    "        # Create corresponding drectory\n",
    "        dir_name = os.path.dirname(doc_path)\n",
    "        if not os.path.exists(dir_name):\n",
    "            os.makedirs(dir_name)\n",
    "        # Dump the json into file   \n",
    "        with open(doc_path, 'w') as doc_file:\n",
    "            json.dump(doc, doc_file)\n",
    "    # End of doc save"
   ]
  },
  {
   "cell_type": "code",
   "execution_count": 5,
   "metadata": {
    "collapsed": false
   },
   "outputs": [
    {
     "name": "stdout",
     "output_type": "stream",
     "text": [
      "Done saving the docs for the request.\n"
     ]
    }
   ],
   "source": [
    "r = requests.get(community_url, params = reqparams)\n",
    "if r.status_code == 200:\n",
    "    # Parse json response\n",
    "    jsonObj = json.loads(r.text)\n",
    "    save_docs(jsonObj)\n",
    "    print('Done saving the docs for the request.')                        \n",
    "\n",
    "else:\n",
    "    print('Failed to get docs for the page')\n",
    "    print(r.text) "
   ]
  },
  {
   "cell_type": "code",
   "execution_count": null,
   "metadata": {
    "collapsed": true
   },
   "outputs": [],
   "source": []
  }
 ],
 "metadata": {
  "anaconda-cloud": {},
  "kernelspec": {
   "display_name": "Python [conda root]",
   "language": "python",
   "name": "conda-root-py"
  },
  "language_info": {
   "codemirror_mode": {
    "name": "ipython",
    "version": 3
   },
   "file_extension": ".py",
   "mimetype": "text/x-python",
   "name": "python",
   "nbconvert_exporter": "python",
   "pygments_lexer": "ipython3",
   "version": "3.5.2"
  }
 },
 "nbformat": 4,
 "nbformat_minor": 1
}
