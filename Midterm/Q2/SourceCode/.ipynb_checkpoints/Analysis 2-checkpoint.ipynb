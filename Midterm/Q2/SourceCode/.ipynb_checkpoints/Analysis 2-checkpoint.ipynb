{
 "cells": [
  {
   "cell_type": "markdown",
   "metadata": {},
   "source": [
    "## Road Accidents Analysis 2"
   ]
  },
  {
   "cell_type": "markdown",
   "metadata": {},
   "source": [
    "### Analyze the region-wise accidents counts"
   ]
  },
  {
   "cell_type": "markdown",
   "metadata": {},
   "source": [
    "#### Step 1: Import modules"
   ]
  },
  {
   "cell_type": "code",
   "execution_count": 2,
   "metadata": {
    "collapsed": true
   },
   "outputs": [],
   "source": [
    "import os\n",
    "import glob\n",
    "import json\n",
    "from datetime import datetime\n",
    "from collections import Counter\n"
   ]
  },
  {
   "cell_type": "markdown",
   "metadata": {},
   "source": [
    "#### Step 2: Read the data from json docs"
   ]
  },
  {
   "cell_type": "code",
   "execution_count": 3,
   "metadata": {
    "collapsed": true
   },
   "outputs": [],
   "source": [
    "# Path to the Accidents Dataset\n",
    "\n",
    "path_to_docs = os.getcwd() + '/../Data/Accidents'\n"
   ]
  },
  {
   "cell_type": "markdown",
   "metadata": {},
   "source": [
    "#### Step 3: Process the json files"
   ]
  },
  {
   "cell_type": "code",
   "execution_count": 11,
   "metadata": {
    "collapsed": false
   },
   "outputs": [
    {
     "name": "stdout",
     "output_type": "stream",
     "text": [
      "Region wise Accidents Count:\n",
      "\n",
      "Region\t count\n",
      "('NYC', 49)\n",
      "('India', 13)\n",
      "('China', 10)\n",
      "('France', 7)\n",
      "('Israel', 6)\n",
      "('Japan', 5)\n",
      "('Italy', 4)\n",
      "('Spain', 4)\n",
      "('Afghanistan', 4)\n",
      "('Pakistan', 3)\n",
      "('Ireland', 3)\n",
      "('Greece', 3)\n",
      "('Australia', 3)\n",
      "('Thailand', 3)\n",
      "('Nigeria', 3)\n",
      "('Netherlands', 2)\n",
      "('Mexico', 2)\n",
      "('Bangladesh', 2)\n",
      "('Georgia', 2)\n",
      "('Cameroon', 2)\n",
      "('Argentina', 2)\n",
      "('South Africa', 2)\n",
      "('Brazil', 2)\n",
      "('Iraq', 2)\n",
      "('US - Colorado', 1)\n",
      "('US - Illinois', 1)\n",
      "('US - North Dakota', 1)\n",
      "('US - Ohio', 1)\n",
      "('US - West Virginia', 1)\n",
      "('Cambodia', 1)\n",
      "('Germany', 1)\n",
      "('US - South Carolina', 1)\n",
      "('Lebanon', 1)\n",
      "('US - Virginia', 1)\n",
      "('Malaysia', 1)\n",
      "('Ukraine', 1)\n",
      "('US - Michigan', 1)\n",
      "('Honduras', 1)\n",
      "('US - Texas', 1)\n",
      "('US - California', 1)\n",
      "('Switzerland', 1)\n",
      "('Egypt', 1)\n",
      "('US - Florida', 1)\n",
      "('Taiwan', 1)\n",
      "('Mozambique', 1)\n",
      "('US - North Carolina', 1)\n",
      "('US - Kansas', 1)\n",
      "('US - Utah', 1)\n",
      "('US - Idaho', 1)\n",
      "('US - New Jersey', 1)\n",
      "('US - Hawaii', 1)\n",
      "('Sweden', 1)\n",
      "('US - Connecticut', 1)\n",
      "('Philippines', 1)\n",
      "('Belgium', 1)\n",
      "('Chile', 1)\n",
      "('Peru', 1)\n",
      "('Kenya', 1)\n",
      "('US - Mississippi', 1)\n",
      "('US - Louisiana', 1)\n",
      "('Uganda', 1)\n",
      "('US - Vermont', 1)\n",
      "('Libya', 1)\n",
      "('Canada', 1)\n",
      "('Iran', 1)\n",
      "('Nepal', 1)\n",
      "('Ghana', 1)\n",
      "('US - Alaska', 1)\n",
      "('Poland', 1)\n",
      "('US - Indiana', 1)\n",
      "('Cuba', 1)\n"
     ]
    }
   ],
   "source": [
    "\n",
    "region_wise_accidents = []\n",
    "\n",
    "us_to_be_done = True\n",
    "for docs_path_countries in glob.glob(path_to_docs + '/*'):\n",
    "    \n",
    "    if  ('United States' in docs_path_countries) or ('US' in docs_path_countries):\n",
    "\n",
    "        # Read docs from inside US\n",
    "        if us_to_be_done:\n",
    "            us_to_be_done = False\n",
    "            for docs_path_states in glob.glob(path_to_docs + '/US/*'):\n",
    "                region_wise_accidents.append('US - ' + os.path.basename(os.path.normpath(docs_path_states)))\n",
    "                \n",
    "                        \n",
    "                               \n",
    "    else:\n",
    "        # Read docs from outside US\n",
    "\n",
    "        for json_file in glob.glob(docs_path_countries + '/*'):            \n",
    "            with open(json_file, 'r') as json_doc:\n",
    "                json_obj = json.loads(json_doc.read())\n",
    "                pub_date_str = json_obj['pub_date']\n",
    "                pub_datetime = datetime.strptime(pub_date_str[0:19], \"%Y-%m-%dT%H:%M:%S\")\n",
    "                year_number = pub_datetime.strftime(\"%Y\")\n",
    "                region_wise_accidents.append(os.path.basename(os.path.normpath(docs_path_countries)))\n",
    "                        \n",
    "wordcount = Counter(region_wise_accidents)\n",
    "print('Region wise Accidents Count:\\n')\n",
    "print('Region\\t','count')\n",
    "for i in sorted(wordcount.items(), key=lambda x:x[1], reverse = True):\n",
    "    print(i)"
   ]
  },
  {
   "cell_type": "markdown",
   "metadata": {},
   "source": [
    "> ### It's interesting to note that New York City has the most no. of road accidents, while rest of the US states have just 1 accident per state"
   ]
  },
  {
   "cell_type": "markdown",
   "metadata": {},
   "source": [
    "> ### India and China have the most no of accidents in the International space"
   ]
  }
 ],
 "metadata": {
  "kernelspec": {
   "display_name": "Python [conda root]",
   "language": "python",
   "name": "conda-root-py"
  },
  "language_info": {
   "codemirror_mode": {
    "name": "ipython",
    "version": 3
   },
   "file_extension": ".py",
   "mimetype": "text/x-python",
   "name": "python",
   "nbconvert_exporter": "python",
   "pygments_lexer": "ipython3",
   "version": "3.5.2"
  }
 },
 "nbformat": 4,
 "nbformat_minor": 1
}
