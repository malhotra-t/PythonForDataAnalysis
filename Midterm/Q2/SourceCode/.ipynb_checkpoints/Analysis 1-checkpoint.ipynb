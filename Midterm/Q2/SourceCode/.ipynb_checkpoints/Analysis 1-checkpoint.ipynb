{
 "cells": [
  {
   "cell_type": "markdown",
   "metadata": {},
   "source": [
    "## Road Accidents Analysis 1"
   ]
  },
  {
   "cell_type": "markdown",
   "metadata": {},
   "source": [
    "### Analyze the trend of accidents counts over the 'time period' across the globe"
   ]
  },
  {
   "cell_type": "markdown",
   "metadata": {},
   "source": [
    "#### Step 1: Import modules"
   ]
  },
  {
   "cell_type": "code",
   "execution_count": 16,
   "metadata": {
    "collapsed": false
   },
   "outputs": [],
   "source": [
    "import os\n",
    "import glob\n",
    "import json\n",
    "from datetime import datetime\n"
   ]
  },
  {
   "cell_type": "markdown",
   "metadata": {},
   "source": [
    "#### Step 2: Read the data from json docs"
   ]
  },
  {
   "cell_type": "code",
   "execution_count": 17,
   "metadata": {
    "collapsed": false
   },
   "outputs": [],
   "source": [
    "# Path to the Accidents Dataset\n",
    "\n",
    "path_to_docs = os.getcwd() + '/../Data/Accidents'\n"
   ]
  },
  {
   "cell_type": "code",
   "execution_count": 22,
   "metadata": {
    "collapsed": false
   },
   "outputs": [
    {
     "name": "stdout",
     "output_type": "stream",
     "text": [
      "C:\\Users\\parit\\Documents\\PythonINFO7374\\PythonAssignments\\PythonForDataAnalysis\\Midterm\\Q2\\SourceCode/../Data/Accidents\\Afghanistan\\53f7697f38f0d835538dbd1c.json\n",
      "C:\\Users\\parit\\Documents\\PythonINFO7374\\PythonAssignments\\PythonForDataAnalysis\\Midterm\\Q2\\SourceCode/../Data/Accidents\\Afghanistan\\562a3f0638f0d843c6276065.json\n",
      "C:\\Users\\parit\\Documents\\PythonINFO7374\\PythonAssignments\\PythonForDataAnalysis\\Midterm\\Q2\\SourceCode/../Data/Accidents\\Argentina\\52caf11638f0d86264f601fa.json\n",
      "C:\\Users\\parit\\Documents\\PythonINFO7374\\PythonAssignments\\PythonForDataAnalysis\\Midterm\\Q2\\SourceCode/../Data/Accidents\\Argentina\\566ee8f638f0d83e10be16b3.json\n",
      "C:\\Users\\parit\\Documents\\PythonINFO7374\\PythonAssignments\\PythonForDataAnalysis\\Midterm\\Q2\\SourceCode/../Data/Accidents\\Australia\\585cc5ed95d0e039260777fc.json\n",
      "C:\\Users\\parit\\Documents\\PythonINFO7374\\PythonAssignments\\PythonForDataAnalysis\\Midterm\\Q2\\SourceCode/../Data/Accidents\\Bangladesh\\517e840dcf28d041ca000389.json\n",
      "C:\\Users\\parit\\Documents\\PythonINFO7374\\PythonAssignments\\PythonForDataAnalysis\\Midterm\\Q2\\SourceCode/../Data/Accidents\\Belgium\\53f75aa838f0d821a37b2e6f.json\n",
      "C:\\Users\\parit\\Documents\\PythonINFO7374\\PythonAssignments\\PythonForDataAnalysis\\Midterm\\Q2\\SourceCode/../Data/Accidents\\Brazil\\52c1ac0738f0d829ddebde81.json\n",
      "C:\\Users\\parit\\Documents\\PythonINFO7374\\PythonAssignments\\PythonForDataAnalysis\\Midterm\\Q2\\SourceCode/../Data/Accidents\\Cambodia\\5168001acf28d0219d007657.json\n",
      "C:\\Users\\parit\\Documents\\PythonINFO7374\\PythonAssignments\\PythonForDataAnalysis\\Midterm\\Q2\\SourceCode/../Data/Accidents\\Cameroon\\57158cc338f0d8257f601fc5.json\n",
      "C:\\Users\\parit\\Documents\\PythonINFO7374\\PythonAssignments\\PythonForDataAnalysis\\Midterm\\Q2\\SourceCode/../Data/Accidents\\Cameroon\\5853bb5b95d0e039260765d8.json\n",
      "C:\\Users\\parit\\Documents\\PythonINFO7374\\PythonAssignments\\PythonForDataAnalysis\\Midterm\\Q2\\SourceCode/../Data/Accidents\\Canada\\523a469038f0d81989739b2b.json\n",
      "C:\\Users\\parit\\Documents\\PythonINFO7374\\PythonAssignments\\PythonForDataAnalysis\\Midterm\\Q2\\SourceCode/../Data/Accidents\\China\\51c38d7d7e0d9c0839d2aa7e.json\n",
      "C:\\Users\\parit\\Documents\\PythonINFO7374\\PythonAssignments\\PythonForDataAnalysis\\Midterm\\Q2\\SourceCode/../Data/Accidents\\China\\5270802a38f0d83b1c13983e.json\n",
      "C:\\Users\\parit\\Documents\\PythonINFO7374\\PythonAssignments\\PythonForDataAnalysis\\Midterm\\Q2\\SourceCode/../Data/Accidents\\China\\53f73d8c38f0d821a37b2cce.json\n",
      "C:\\Users\\parit\\Documents\\PythonINFO7374\\PythonAssignments\\PythonForDataAnalysis\\Midterm\\Q2\\SourceCode/../Data/Accidents\\China\\54d2258638f0d86a52397fc0.json\n",
      "C:\\Users\\parit\\Documents\\PythonINFO7374\\PythonAssignments\\PythonForDataAnalysis\\Midterm\\Q2\\SourceCode/../Data/Accidents\\China\\5555fb7938f0d833d43535e5.json\n",
      "C:\\Users\\parit\\Documents\\PythonINFO7374\\PythonAssignments\\PythonForDataAnalysis\\Midterm\\Q2\\SourceCode/../Data/Accidents\\China\\560a26e338f0d82f96b4842e.json\n",
      "C:\\Users\\parit\\Documents\\PythonINFO7374\\PythonAssignments\\PythonForDataAnalysis\\Midterm\\Q2\\SourceCode/../Data/Accidents\\China\\57d9a20b95d0e021d79863ed.json\n",
      "C:\\Users\\parit\\Documents\\PythonINFO7374\\PythonAssignments\\PythonForDataAnalysis\\Midterm\\Q2\\SourceCode/../Data/Accidents\\France\\5004b5811c22dfde670b084b.json\n",
      "C:\\Users\\parit\\Documents\\PythonINFO7374\\PythonAssignments\\PythonForDataAnalysis\\Midterm\\Q2\\SourceCode/../Data/Accidents\\France\\51a90b5b40e9ec65d203a97c.json\n",
      "C:\\Users\\parit\\Documents\\PythonINFO7374\\PythonAssignments\\PythonForDataAnalysis\\Midterm\\Q2\\SourceCode/../Data/Accidents\\France\\5629e29438f0d843c6275f19.json\n",
      "C:\\Users\\parit\\Documents\\PythonINFO7374\\PythonAssignments\\PythonForDataAnalysis\\Midterm\\Q2\\SourceCode/../Data/Accidents\\France\\562be8a938f0d8106d916431.json\n",
      "C:\\Users\\parit\\Documents\\PythonINFO7374\\PythonAssignments\\PythonForDataAnalysis\\Midterm\\Q2\\SourceCode/../Data/Accidents\\France\\56bc6f8b38f0d862fbbceef0.json\n",
      "C:\\Users\\parit\\Documents\\PythonINFO7374\\PythonAssignments\\PythonForDataAnalysis\\Midterm\\Q2\\SourceCode/../Data/Accidents\\Georgia\\532f9d8638f0d86989f32f38.json\n",
      "C:\\Users\\parit\\Documents\\PythonINFO7374\\PythonAssignments\\PythonForDataAnalysis\\Midterm\\Q2\\SourceCode/../Data/Accidents\\Georgia\\537d37cf38f0d87250b48c5a.json\n",
      "C:\\Users\\parit\\Documents\\PythonINFO7374\\PythonAssignments\\PythonForDataAnalysis\\Midterm\\Q2\\SourceCode/../Data/Accidents\\Ghana\\56c6805d38f0d809a189bd30.json\n",
      "C:\\Users\\parit\\Documents\\PythonINFO7374\\PythonAssignments\\PythonForDataAnalysis\\Midterm\\Q2\\SourceCode/../Data/Accidents\\Greece\\5127c28fcf28d009de00174f.json\n",
      "C:\\Users\\parit\\Documents\\PythonINFO7374\\PythonAssignments\\PythonForDataAnalysis\\Midterm\\Q2\\SourceCode/../Data/Accidents\\India\\4fd3a38a8eb7c8105d8ecf5e.json\n",
      "C:\\Users\\parit\\Documents\\PythonINFO7374\\PythonAssignments\\PythonForDataAnalysis\\Midterm\\Q2\\SourceCode/../Data/Accidents\\India\\507c49d395e998af71184cd0.json\n",
      "C:\\Users\\parit\\Documents\\PythonINFO7374\\PythonAssignments\\PythonForDataAnalysis\\Midterm\\Q2\\SourceCode/../Data/Accidents\\India\\51376536cf28d009de003c20.json\n",
      "C:\\Users\\parit\\Documents\\PythonINFO7374\\PythonAssignments\\PythonForDataAnalysis\\Midterm\\Q2\\SourceCode/../Data/Accidents\\India\\5220a62338f0d8740ac9aba7.json\n",
      "C:\\Users\\parit\\Documents\\PythonINFO7374\\PythonAssignments\\PythonForDataAnalysis\\Midterm\\Q2\\SourceCode/../Data/Accidents\\India\\5220b05538f0d8740ac9b1f9.json\n",
      "C:\\Users\\parit\\Documents\\PythonINFO7374\\PythonAssignments\\PythonForDataAnalysis\\Midterm\\Q2\\SourceCode/../Data/Accidents\\India\\52710cba38f0d83b1c139965.json\n",
      "C:\\Users\\parit\\Documents\\PythonINFO7374\\PythonAssignments\\PythonForDataAnalysis\\Midterm\\Q2\\SourceCode/../Data/Accidents\\India\\53987c2b38f0d80b34dcc007.json\n",
      "C:\\Users\\parit\\Documents\\PythonINFO7374\\PythonAssignments\\PythonForDataAnalysis\\Midterm\\Q2\\SourceCode/../Data/Accidents\\India\\5547a6a538f0d81a8df264d0.json\n",
      "C:\\Users\\parit\\Documents\\PythonINFO7374\\PythonAssignments\\PythonForDataAnalysis\\Midterm\\Q2\\SourceCode/../Data/Accidents\\India\\55481d7d38f0d81a8df2661f.json\n",
      "C:\\Users\\parit\\Documents\\PythonINFO7374\\PythonAssignments\\PythonForDataAnalysis\\Midterm\\Q2\\SourceCode/../Data/Accidents\\India\\5768eaf538f0d879d3941a71.json\n",
      "C:\\Users\\parit\\Documents\\PythonINFO7374\\PythonAssignments\\PythonForDataAnalysis\\Midterm\\Q2\\SourceCode/../Data/Accidents\\Iran\\57dde14995d0e021d7986dde.json\n",
      "C:\\Users\\parit\\Documents\\PythonINFO7374\\PythonAssignments\\PythonForDataAnalysis\\Midterm\\Q2\\SourceCode/../Data/Accidents\\Iraq\\52a4a90838f0d841224bbeb5.json\n",
      "C:\\Users\\parit\\Documents\\PythonINFO7374\\PythonAssignments\\PythonForDataAnalysis\\Midterm\\Q2\\SourceCode/../Data/Accidents\\Ireland\\515d9e8fcf28d0219d000a85.json\n",
      "C:\\Users\\parit\\Documents\\PythonINFO7374\\PythonAssignments\\PythonForDataAnalysis\\Midterm\\Q2\\SourceCode/../Data/Accidents\\Ireland\\568f2bcd38f0d8580b9abb3a.json\n",
      "C:\\Users\\parit\\Documents\\PythonINFO7374\\PythonAssignments\\PythonForDataAnalysis\\Midterm\\Q2\\SourceCode/../Data/Accidents\\Israel\\5447c2ab38f0d850b09355ed.json\n",
      "C:\\Users\\parit\\Documents\\PythonINFO7374\\PythonAssignments\\PythonForDataAnalysis\\Midterm\\Q2\\SourceCode/../Data/Accidents\\Israel\\553002e638f0d847eef0f478.json\n",
      "C:\\Users\\parit\\Documents\\PythonINFO7374\\PythonAssignments\\PythonForDataAnalysis\\Midterm\\Q2\\SourceCode/../Data/Accidents\\Israel\\55f6937b38f0d85cacd3912c.json\n",
      "C:\\Users\\parit\\Documents\\PythonINFO7374\\PythonAssignments\\PythonForDataAnalysis\\Midterm\\Q2\\SourceCode/../Data/Accidents\\Italy\\5050cc801c22dfde670c639a.json\n",
      "C:\\Users\\parit\\Documents\\PythonINFO7374\\PythonAssignments\\PythonForDataAnalysis\\Midterm\\Q2\\SourceCode/../Data/Accidents\\Italy\\55e850ee38f0d80b7eeea84a.json\n",
      "C:\\Users\\parit\\Documents\\PythonINFO7374\\PythonAssignments\\PythonForDataAnalysis\\Midterm\\Q2\\SourceCode/../Data/Accidents\\Japan\\53f466a638f0d857ea2d0fc3.json\n",
      "C:\\Users\\parit\\Documents\\PythonINFO7374\\PythonAssignments\\PythonForDataAnalysis\\Midterm\\Q2\\SourceCode/../Data/Accidents\\Japan\\543c27f138f0d857a8e0a08d.json\n",
      "C:\\Users\\parit\\Documents\\PythonINFO7374\\PythonAssignments\\PythonForDataAnalysis\\Midterm\\Q2\\SourceCode/../Data/Accidents\\Japan\\5698722038f0d8108a7eb87f.json\n",
      "C:\\Users\\parit\\Documents\\PythonINFO7374\\PythonAssignments\\PythonForDataAnalysis\\Midterm\\Q2\\SourceCode/../Data/Accidents\\Kenya\\5220dcd538f0d8740ac9c84e.json\n",
      "C:\\Users\\parit\\Documents\\PythonINFO7374\\PythonAssignments\\PythonForDataAnalysis\\Midterm\\Q2\\SourceCode/../Data/Accidents\\Mexico\\534b3aaf38f0d858e6406e90.json\n",
      "C:\\Users\\parit\\Documents\\PythonINFO7374\\PythonAssignments\\PythonForDataAnalysis\\Midterm\\Q2\\SourceCode/../Data/Accidents\\Mozambique\\582ed3ad95d0e0392607145f.json\n",
      "C:\\Users\\parit\\Documents\\PythonINFO7374\\PythonAssignments\\PythonForDataAnalysis\\Midterm\\Q2\\SourceCode/../Data/Accidents\\Nepal\\57b3881695d0e021d798108c.json\n",
      "C:\\Users\\parit\\Documents\\PythonINFO7374\\PythonAssignments\\PythonForDataAnalysis\\Midterm\\Q2\\SourceCode/../Data/Accidents\\Netherlands\\517e89cdcf28d041ca0005fb.json\n",
      "C:\\Users\\parit\\Documents\\PythonINFO7374\\PythonAssignments\\PythonForDataAnalysis\\Midterm\\Q2\\SourceCode/../Data/Accidents\\Nigeria\\515d9fb4cf28d0219d000cf0.json\n",
      "C:\\Users\\parit\\Documents\\PythonINFO7374\\PythonAssignments\\PythonForDataAnalysis\\Midterm\\Q2\\SourceCode/../Data/Accidents\\Nigeria\\525fcc6438f0d86e01ab5eb7.json\n",
      "C:\\Users\\parit\\Documents\\PythonINFO7374\\PythonAssignments\\PythonForDataAnalysis\\Midterm\\Q2\\SourceCode/../Data/Accidents\\NYC\\4fd299ba8eb7c8105d877b1f.json\n",
      "C:\\Users\\parit\\Documents\\PythonINFO7374\\PythonAssignments\\PythonForDataAnalysis\\Midterm\\Q2\\SourceCode/../Data/Accidents\\NYC\\5050d7e11c22dfde670c781a.json\n",
      "C:\\Users\\parit\\Documents\\PythonINFO7374\\PythonAssignments\\PythonForDataAnalysis\\Midterm\\Q2\\SourceCode/../Data/Accidents\\NYC\\507c4d9a95e998af71185e36.json\n",
      "C:\\Users\\parit\\Documents\\PythonINFO7374\\PythonAssignments\\PythonForDataAnalysis\\Midterm\\Q2\\SourceCode/../Data/Accidents\\NYC\\507c505f95e998af71186918.json\n",
      "C:\\Users\\parit\\Documents\\PythonINFO7374\\PythonAssignments\\PythonForDataAnalysis\\Midterm\\Q2\\SourceCode/../Data/Accidents\\NYC\\50be622a00315214fbb7d36e.json\n",
      "C:\\Users\\parit\\Documents\\PythonINFO7374\\PythonAssignments\\PythonForDataAnalysis\\Midterm\\Q2\\SourceCode/../Data/Accidents\\NYC\\5136d7b5cf28d009de003b00.json\n",
      "C:\\Users\\parit\\Documents\\PythonINFO7374\\PythonAssignments\\PythonForDataAnalysis\\Midterm\\Q2\\SourceCode/../Data/Accidents\\NYC\\513ac9c7cf28d04ae00008e8.json\n",
      "C:\\Users\\parit\\Documents\\PythonINFO7374\\PythonAssignments\\PythonForDataAnalysis\\Midterm\\Q2\\SourceCode/../Data/Accidents\\NYC\\51c7996e7e0d9c0839d2b2bb.json\n",
      "C:\\Users\\parit\\Documents\\PythonINFO7374\\PythonAssignments\\PythonForDataAnalysis\\Midterm\\Q2\\SourceCode/../Data/Accidents\\NYC\\5206b25e38f0d8740ac8ad2a.json\n",
      "C:\\Users\\parit\\Documents\\PythonINFO7374\\PythonAssignments\\PythonForDataAnalysis\\Midterm\\Q2\\SourceCode/../Data/Accidents\\NYC\\520e384838f0d8740ac8beca.json\n",
      "C:\\Users\\parit\\Documents\\PythonINFO7374\\PythonAssignments\\PythonForDataAnalysis\\Midterm\\Q2\\SourceCode/../Data/Accidents\\NYC\\5244e39e38f0d8198973d094.json\n",
      "C:\\Users\\parit\\Documents\\PythonINFO7374\\PythonAssignments\\PythonForDataAnalysis\\Midterm\\Q2\\SourceCode/../Data/Accidents\\NYC\\52ddff4738f0d808a7480ed1.json\n",
      "C:\\Users\\parit\\Documents\\PythonINFO7374\\PythonAssignments\\PythonForDataAnalysis\\Midterm\\Q2\\SourceCode/../Data/Accidents\\NYC\\5307aa8038f0d8457b9ea2fa.json\n",
      "C:\\Users\\parit\\Documents\\PythonINFO7374\\PythonAssignments\\PythonForDataAnalysis\\Midterm\\Q2\\SourceCode/../Data/Accidents\\NYC\\5329c27938f0d8176454443f.json\n",
      "C:\\Users\\parit\\Documents\\PythonINFO7374\\PythonAssignments\\PythonForDataAnalysis\\Midterm\\Q2\\SourceCode/../Data/Accidents\\NYC\\53406dc138f0d834c5bbfdb5.json\n",
      "C:\\Users\\parit\\Documents\\PythonINFO7374\\PythonAssignments\\PythonForDataAnalysis\\Midterm\\Q2\\SourceCode/../Data/Accidents\\NYC\\536d1b8638f0d852c67d4946.json\n",
      "C:\\Users\\parit\\Documents\\PythonINFO7374\\PythonAssignments\\PythonForDataAnalysis\\Midterm\\Q2\\SourceCode/../Data/Accidents\\NYC\\5372c72c38f0d82a89725196.json\n",
      "C:\\Users\\parit\\Documents\\PythonINFO7374\\PythonAssignments\\PythonForDataAnalysis\\Midterm\\Q2\\SourceCode/../Data/Accidents\\NYC\\5386bd9738f0d83ab04904b9.json\n",
      "C:\\Users\\parit\\Documents\\PythonINFO7374\\PythonAssignments\\PythonForDataAnalysis\\Midterm\\Q2\\SourceCode/../Data/Accidents\\NYC\\53b4c58238f0d84e7a8ca59f.json\n",
      "C:\\Users\\parit\\Documents\\PythonINFO7374\\PythonAssignments\\PythonForDataAnalysis\\Midterm\\Q2\\SourceCode/../Data/Accidents\\NYC\\53f416e938f0d857ea2d0b79.json\n",
      "C:\\Users\\parit\\Documents\\PythonINFO7374\\PythonAssignments\\PythonForDataAnalysis\\Midterm\\Q2\\SourceCode/../Data/Accidents\\NYC\\53f558e238f0d87ef470e31e.json\n",
      "C:\\Users\\parit\\Documents\\PythonINFO7374\\PythonAssignments\\PythonForDataAnalysis\\Midterm\\Q2\\SourceCode/../Data/Accidents\\NYC\\53f5611d38f0d87ef470e39f.json\n",
      "C:\\Users\\parit\\Documents\\PythonINFO7374\\PythonAssignments\\PythonForDataAnalysis\\Midterm\\Q2\\SourceCode/../Data/Accidents\\NYC\\53f8d56338f0d84410bca7dd.json\n",
      "C:\\Users\\parit\\Documents\\PythonINFO7374\\PythonAssignments\\PythonForDataAnalysis\\Midterm\\Q2\\SourceCode/../Data/Accidents\\NYC\\541da73738f0d81f018b3ecf.json\n",
      "C:\\Users\\parit\\Documents\\PythonINFO7374\\PythonAssignments\\PythonForDataAnalysis\\Midterm\\Q2\\SourceCode/../Data/Accidents\\NYC\\5478aa3a38f0d86bf592e4e2.json\n",
      "C:\\Users\\parit\\Documents\\PythonINFO7374\\PythonAssignments\\PythonForDataAnalysis\\Midterm\\Q2\\SourceCode/../Data/Accidents\\NYC\\54f6762238f0d8368436d88e.json\n",
      "C:\\Users\\parit\\Documents\\PythonINFO7374\\PythonAssignments\\PythonForDataAnalysis\\Midterm\\Q2\\SourceCode/../Data/Accidents\\NYC\\555a3dd838f0d803a0965ba8.json\n",
      "C:\\Users\\parit\\Documents\\PythonINFO7374\\PythonAssignments\\PythonForDataAnalysis\\Midterm\\Q2\\SourceCode/../Data/Accidents\\NYC\\5576fca238f0d8639f6de4ab.json\n",
      "C:\\Users\\parit\\Documents\\PythonINFO7374\\PythonAssignments\\PythonForDataAnalysis\\Midterm\\Q2\\SourceCode/../Data/Accidents\\NYC\\5592c7e338f0d86249dfa4a5.json\n",
      "C:\\Users\\parit\\Documents\\PythonINFO7374\\PythonAssignments\\PythonForDataAnalysis\\Midterm\\Q2\\SourceCode/../Data/Accidents\\NYC\\55dbcb4038f0d8422c38ec88.json\n",
      "C:\\Users\\parit\\Documents\\PythonINFO7374\\PythonAssignments\\PythonForDataAnalysis\\Midterm\\Q2\\SourceCode/../Data/Accidents\\NYC\\5649533438f0d81963b7459f.json\n",
      "C:\\Users\\parit\\Documents\\PythonINFO7374\\PythonAssignments\\PythonForDataAnalysis\\Midterm\\Q2\\SourceCode/../Data/Accidents\\NYC\\56fb332b38f0d816b6b7e2b1.json\n",
      "C:\\Users\\parit\\Documents\\PythonINFO7374\\PythonAssignments\\PythonForDataAnalysis\\Midterm\\Q2\\SourceCode/../Data/Accidents\\NYC\\56fc520238f0d83ee373641d.json\n",
      "C:\\Users\\parit\\Documents\\PythonINFO7374\\PythonAssignments\\PythonForDataAnalysis\\Midterm\\Q2\\SourceCode/../Data/Accidents\\Pakistan\\535411d338f0d81735d912f7.json\n",
      "C:\\Users\\parit\\Documents\\PythonINFO7374\\PythonAssignments\\PythonForDataAnalysis\\Midterm\\Q2\\SourceCode/../Data/Accidents\\Pakistan\\54622a5b38f0d80b742a02f1.json\n",
      "C:\\Users\\parit\\Documents\\PythonINFO7374\\PythonAssignments\\PythonForDataAnalysis\\Midterm\\Q2\\SourceCode/../Data/Accidents\\Pakistan\\54b265d038f0d87f81147e61.json\n",
      "C:\\Users\\parit\\Documents\\PythonINFO7374\\PythonAssignments\\PythonForDataAnalysis\\Midterm\\Q2\\SourceCode/../Data/Accidents\\Peru\\5259f84e38f0d81989741ee9.json\n",
      "C:\\Users\\parit\\Documents\\PythonINFO7374\\PythonAssignments\\PythonForDataAnalysis\\Midterm\\Q2\\SourceCode/../Data/Accidents\\Poland\\5731e99638f0d81c1525b7ba.json\n",
      "C:\\Users\\parit\\Documents\\PythonINFO7374\\PythonAssignments\\PythonForDataAnalysis\\Midterm\\Q2\\SourceCode/../Data/Accidents\\South Africa\\519c310740e9ec457e2a2c0c.json\n",
      "C:\\Users\\parit\\Documents\\PythonINFO7374\\PythonAssignments\\PythonForDataAnalysis\\Midterm\\Q2\\SourceCode/../Data/Accidents\\Spain\\51f0798d38f0d8431a75b61d.json\n",
      "C:\\Users\\parit\\Documents\\PythonINFO7374\\PythonAssignments\\PythonForDataAnalysis\\Midterm\\Q2\\SourceCode/../Data/Accidents\\Spain\\51f0c01938f0d8431a75b6b6.json\n",
      "C:\\Users\\parit\\Documents\\PythonINFO7374\\PythonAssignments\\PythonForDataAnalysis\\Midterm\\Q2\\SourceCode/../Data/Accidents\\Spain\\554c8aaf38f0d87a4d2b5a1b.json\n",
      "C:\\Users\\parit\\Documents\\PythonINFO7374\\PythonAssignments\\PythonForDataAnalysis\\Midterm\\Q2\\SourceCode/../Data/Accidents\\Spain\\56eee6bf38f0d81c2692dac3.json\n",
      "C:\\Users\\parit\\Documents\\PythonINFO7374\\PythonAssignments\\PythonForDataAnalysis\\Midterm\\Q2\\SourceCode/../Data/Accidents\\Taiwan\\54d1aa7038f0d86a52397b85.json\n",
      "C:\\Users\\parit\\Documents\\PythonINFO7374\\PythonAssignments\\PythonForDataAnalysis\\Midterm\\Q2\\SourceCode/../Data/Accidents\\Uganda\\5264755538f0d828eee7e99a.json\n",
      "C:\\Users\\parit\\Documents\\PythonINFO7374\\PythonAssignments\\PythonForDataAnalysis\\Midterm\\Q2\\SourceCode/../Data/Accidents\\United States\\515da4f9cf28d0219d00187d.json\n",
      "C:\\Users\\parit\\Documents\\PythonINFO7374\\PythonAssignments\\PythonForDataAnalysis\\Midterm\\Q2\\SourceCode/../Data/Accidents\\United States\\555c4d3238f0d82290bae7a4.json\n",
      "C:\\Users\\parit\\Documents\\PythonINFO7374\\PythonAssignments\\PythonForDataAnalysis\\Midterm\\Q2\\SourceCode/../Data/Accidents\\US\\Alaska\n"
     ]
    },
    {
     "ename": "PermissionError",
     "evalue": "[Errno 13] Permission denied: 'C:\\\\Users\\\\parit\\\\Documents\\\\PythonINFO7374\\\\PythonAssignments\\\\PythonForDataAnalysis\\\\Midterm\\\\Q2\\\\SourceCode/../Data/Accidents\\\\US\\\\Alaska'",
     "output_type": "error",
     "traceback": [
      "\u001b[0;31m---------------------------------------------------------------------------\u001b[0m",
      "\u001b[0;31mPermissionError\u001b[0m                           Traceback (most recent call last)",
      "\u001b[0;32m<ipython-input-22-8c8930296d9b>\u001b[0m in \u001b[0;36m<module>\u001b[0;34m()\u001b[0m\n\u001b[1;32m      7\u001b[0m         \u001b[1;32mfor\u001b[0m \u001b[0mjson_file\u001b[0m \u001b[1;32min\u001b[0m \u001b[0mglob\u001b[0m\u001b[1;33m.\u001b[0m\u001b[0mglob\u001b[0m\u001b[1;33m(\u001b[0m\u001b[0mdocs_path_countries\u001b[0m \u001b[1;33m+\u001b[0m \u001b[1;34m'/*'\u001b[0m\u001b[1;33m)\u001b[0m\u001b[1;33m:\u001b[0m\u001b[1;33m\u001b[0m\u001b[0m\n\u001b[1;32m      8\u001b[0m             \u001b[0mprint\u001b[0m\u001b[1;33m(\u001b[0m\u001b[0mjson_file\u001b[0m\u001b[1;33m)\u001b[0m\u001b[1;33m\u001b[0m\u001b[0m\n\u001b[0;32m----> 9\u001b[0;31m             \u001b[1;32mwith\u001b[0m \u001b[0mopen\u001b[0m\u001b[1;33m(\u001b[0m\u001b[0mjson_file\u001b[0m\u001b[1;33m,\u001b[0m \u001b[1;34m'r'\u001b[0m\u001b[1;33m)\u001b[0m \u001b[1;32mas\u001b[0m \u001b[0mjson_doc\u001b[0m\u001b[1;33m:\u001b[0m\u001b[1;33m\u001b[0m\u001b[0m\n\u001b[0m\u001b[1;32m     10\u001b[0m                 \u001b[0mjson_obj\u001b[0m \u001b[1;33m=\u001b[0m \u001b[0mjson\u001b[0m\u001b[1;33m.\u001b[0m\u001b[0mloads\u001b[0m\u001b[1;33m(\u001b[0m\u001b[0mjson_doc\u001b[0m\u001b[1;33m.\u001b[0m\u001b[0mread\u001b[0m\u001b[1;33m(\u001b[0m\u001b[1;33m)\u001b[0m\u001b[1;33m)\u001b[0m\u001b[1;33m\u001b[0m\u001b[0m\n\u001b[1;32m     11\u001b[0m                 \u001b[0mpub_date_str\u001b[0m \u001b[1;33m=\u001b[0m \u001b[0mjson_obj\u001b[0m\u001b[1;33m[\u001b[0m\u001b[1;34m'pub_date'\u001b[0m\u001b[1;33m]\u001b[0m\u001b[1;33m\u001b[0m\u001b[0m\n",
      "\u001b[0;31mPermissionError\u001b[0m: [Errno 13] Permission denied: 'C:\\\\Users\\\\parit\\\\Documents\\\\PythonINFO7374\\\\PythonAssignments\\\\PythonForDataAnalysis\\\\Midterm\\\\Q2\\\\SourceCode/../Data/Accidents\\\\US\\\\Alaska'"
     ]
    }
   ],
   "source": [
    "# Read docs from outside US\n",
    "\n",
    "yearly_accidents = []\n",
    "\n",
    "for docs_path_countries in glob.glob(path_to_docs + '/*'):\n",
    "    \n",
    "    if  ('United States' in docs_path_countries) or ('US' in docs_path_countries):\n",
    "        print('US')\n",
    "    else:    \n",
    "        for json_file in glob.glob(docs_path_countries + '/*'):            \n",
    "            with open(json_file, 'r') as json_doc:\n",
    "                json_obj = json.loads(json_doc.read())\n",
    "                pub_date_str = json_obj['pub_date']\n",
    "                pub_datetime = datetime.strptime(pub_date_str[0:19], \"%Y-%m-%dT%H:%M:%S\")\n",
    "                year_number = pub_datetime.strftime(\"%Y\")\n",
    "                yearly_accidents.append(year_number)\n",
    "                \n",
    "                \n",
    "yearly_accidents        \n",
    "        \n"
   ]
  },
  {
   "cell_type": "code",
   "execution_count": null,
   "metadata": {
    "collapsed": true
   },
   "outputs": [],
   "source": []
  },
  {
   "cell_type": "code",
   "execution_count": null,
   "metadata": {
    "collapsed": true
   },
   "outputs": [],
   "source": []
  },
  {
   "cell_type": "code",
   "execution_count": null,
   "metadata": {
    "collapsed": true
   },
   "outputs": [],
   "source": []
  },
  {
   "cell_type": "code",
   "execution_count": null,
   "metadata": {
    "collapsed": true
   },
   "outputs": [],
   "source": []
  },
  {
   "cell_type": "code",
   "execution_count": null,
   "metadata": {
    "collapsed": true
   },
   "outputs": [],
   "source": [
    "\n",
    "# data to plot\n",
    "n_groups = 4\n",
    "means_frank = (90, 55, 40, 65)\n",
    "means_guido = (85, 62, 54, 20)\n",
    " \n",
    "# create plot\n",
    "fig, ax = plt.subplots()\n",
    "index = np.arange(n_groups)\n",
    "bar_width = 0.35\n",
    "opacity = 0.8\n",
    " \n",
    "rects1 = plt.bar(index, means_frank, bar_width,\n",
    "                 alpha=opacity,\n",
    "                 color='b',\n",
    "                 label='Frank')\n",
    " \n",
    "rects2 = plt.bar(index + bar_width, means_guido, bar_width,\n",
    "                 alpha=opacity,\n",
    "                 color='g',\n",
    "                 label='Guido')\n",
    " \n",
    "plt.xlabel('Person')\n",
    "plt.ylabel('Scores')\n",
    "plt.title('Scores by person')\n",
    "plt.xticks(index + bar_width, ('A', 'B', 'C', 'D'))\n",
    "plt.legend()\n",
    " \n",
    "plt.tight_layout()\n",
    "plt.show()"
   ]
  }
 ],
 "metadata": {
  "anaconda-cloud": {},
  "kernelspec": {
   "display_name": "Python [conda root]",
   "language": "python",
   "name": "conda-root-py"
  },
  "language_info": {
   "codemirror_mode": {
    "name": "ipython",
    "version": 3
   },
   "file_extension": ".py",
   "mimetype": "text/x-python",
   "name": "python",
   "nbconvert_exporter": "python",
   "pygments_lexer": "ipython3",
   "version": "3.5.2"
  }
 },
 "nbformat": 4,
 "nbformat_minor": 1
}
