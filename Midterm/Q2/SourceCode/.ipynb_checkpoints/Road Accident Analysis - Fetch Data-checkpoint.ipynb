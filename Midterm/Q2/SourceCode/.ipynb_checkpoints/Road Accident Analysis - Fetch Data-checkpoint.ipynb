{
 "cells": [
  {
   "cell_type": "code",
   "execution_count": 4,
   "metadata": {
    "collapsed": true
   },
   "outputs": [],
   "source": [
    "import requests\n",
    "import os\n",
    "import json\n",
    "import time"
   ]
  },
  {
   "cell_type": "code",
   "execution_count": 6,
   "metadata": {
    "collapsed": false
   },
   "outputs": [
    {
     "name": "stdout",
     "output_type": "stream",
     "text": [
      "Value of the environment variable for api-key:  None\n"
     ]
    }
   ],
   "source": [
    "nyt_api_key = os.getenv('NYT_ACCESS_KEY')\n",
    "articlesearch_url = 'https://api.nytimes.com/svc/search/v2/articlesearch.json'\n",
    "print('Value of the environment variable for api-key: ', nyt_api_key)"
   ]
  },
  {
   "cell_type": "code",
   "execution_count": null,
   "metadata": {
    "collapsed": true
   },
   "outputs": [],
   "source": [
    "# Request Map for Accidents\n",
    "reqparams = {'api-key':nyt_api_key, 'q':'road accident','begin_date':'20120101', 'end_date':'20161231', 'page':3}\n",
    "\n",
    "r = requests.get(articlesearch_url, params = reqparams)\n",
    "if r.status_code == 200:\n",
    "    jsonObj = json.loads(r.text)\n",
    "    # get total hits to prepare for dynamically getting remaining docs\n",
    "    hits = jsonObj['response']['meta']['hits']\n",
    "    print('Hits count:', hits)\n",
    "    remaining_pages = int(hits / 10)\n",
    "    if hits % 10 == 0:\n",
    "        remaining_pages = remaining_pages - 1\n",
    "print('Remaining pages:', remaining_pages)\n",
    "print(jsonObj['response']['docs'][4])\n",
    "\n",
    "counter = 0\n",
    "for doc in jsonObj['response']['docs']:\n",
    "    print('Page:', 0, 'Doc:', counter)\n",
    "    for kw in doc['keywords']:\n",
    "        if kw.get('name') == 'glocations':\n",
    "            print(kw['name'],kw['value'])\n",
    "    counter = counter + 1"
   ]
  },
  {
   "cell_type": "code",
   "execution_count": null,
   "metadata": {
    "collapsed": true
   },
   "outputs": [],
   "source": [
    "for page_number in range(1, remaining_pages + 1):\n",
    "        if page_number % 5:\n",
    "            # API restriction: sleep 1 sec after every 5 request \n",
    "            time.sleep(1)\n",
    "        reqparams['page'] = page_number\n",
    "        print('Requesting info for page:', page_number)\n",
    "        r = requests.get(articlesearch_url, params = reqparams)\n",
    "        if r.status_code == 200:\n",
    "            jsonObj = json.loads(r.text)\n",
    "            print('Got results for page:',jsonObj['response']['meta']['offset'] / 10)\n",
    "            counter = 0\n",
    "            for doc in jsonObj['response']['docs']:\n",
    "                print('Page:', page_number, 'Doc:', counter)\n",
    "                for kw in doc['keywords']:\n",
    "                    if kw.get('name') == 'glocations':\n",
    "                        print(kw['name'],kw['value'])\n",
    "                counter = counter + 1\n",
    "        else:\n",
    "            print('Failed to get docs for page:', page_number)\n",
    "            print(r.text)"
   ]
  },
  {
   "cell_type": "code",
   "execution_count": null,
   "metadata": {
    "collapsed": true
   },
   "outputs": [],
   "source": [
    "import numpy as np\n",
    "import matplotlib.pyplot as plt\n",
    " \n",
    "# data to plot\n",
    "n_groups = 4\n",
    "means_frank = (90, 55, 40, 65)\n",
    "means_guido = (85, 62, 54, 20)\n",
    " \n",
    "# create plot\n",
    "fig, ax = plt.subplots()\n",
    "index = np.arange(n_groups)\n",
    "bar_width = 0.35\n",
    "opacity = 0.8\n",
    " \n",
    "rects1 = plt.bar(index, means_frank, bar_width,\n",
    "                 alpha=opacity,\n",
    "                 color='b',\n",
    "                 label='Frank')\n",
    " \n",
    "rects2 = plt.bar(index + bar_width, means_guido, bar_width,\n",
    "                 alpha=opacity,\n",
    "                 color='g',\n",
    "                 label='Guido')\n",
    " \n",
    "plt.xlabel('Person')\n",
    "plt.ylabel('Scores')\n",
    "plt.title('Scores by person')\n",
    "plt.xticks(index + bar_width, ('A', 'B', 'C', 'D'))\n",
    "plt.legend()\n",
    " \n",
    "plt.tight_layout()\n",
    "plt.show()"
   ]
  },
  {
   "cell_type": "code",
   "execution_count": null,
   "metadata": {
    "collapsed": true
   },
   "outputs": [],
   "source": []
  }
 ],
 "metadata": {
  "anaconda-cloud": {},
  "kernelspec": {
   "display_name": "Python [conda root]",
   "language": "python",
   "name": "conda-root-py"
  },
  "language_info": {
   "codemirror_mode": {
    "name": "ipython",
    "version": 3
   },
   "file_extension": ".py",
   "mimetype": "text/x-python",
   "name": "python",
   "nbconvert_exporter": "python",
   "pygments_lexer": "ipython3",
   "version": "3.5.2"
  }
 },
 "nbformat": 4,
 "nbformat_minor": 1
}
