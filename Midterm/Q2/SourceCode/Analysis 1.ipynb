{
 "cells": [
  {
   "cell_type": "markdown",
   "metadata": {},
   "source": [
    "## Road Accidents Analysis 1"
   ]
  },
  {
   "cell_type": "markdown",
   "metadata": {},
   "source": [
    "### Analyze the trend of accidents counts over the 'time period' across the globe"
   ]
  },
  {
   "cell_type": "markdown",
   "metadata": {},
   "source": [
    "#### Step 1: Import modules"
   ]
  },
  {
   "cell_type": "code",
   "execution_count": 16,
   "metadata": {
    "collapsed": false
   },
   "outputs": [],
   "source": [
    "import os\n",
    "import glob\n",
    "import json\n",
    "from datetime import datetime\n"
   ]
  },
  {
   "cell_type": "markdown",
   "metadata": {},
   "source": [
    "#### Step 2: Read the data from json docs"
   ]
  },
  {
   "cell_type": "code",
   "execution_count": 17,
   "metadata": {
    "collapsed": false
   },
   "outputs": [],
   "source": [
    "# Path to the Accidents Dataset\n",
    "\n",
    "path_to_docs = os.getcwd() + '/../Data/Accidents'\n"
   ]
  },
  {
   "cell_type": "code",
   "execution_count": 23,
   "metadata": {
    "collapsed": false
   },
   "outputs": [
    {
     "name": "stdout",
     "output_type": "stream",
     "text": [
      "US\n",
      "US\n"
     ]
    },
    {
     "data": {
      "text/plain": [
       "['2012',\n",
       " '2015',\n",
       " '2014',\n",
       " '2015',\n",
       " '2016',\n",
       " '2013',\n",
       " '2014',\n",
       " '2013',\n",
       " '2013',\n",
       " '2016',\n",
       " '2016',\n",
       " '2013',\n",
       " '2012',\n",
       " '2013',\n",
       " '2012',\n",
       " '2015',\n",
       " '2015',\n",
       " '2015',\n",
       " '2016',\n",
       " '2012',\n",
       " '2013',\n",
       " '2015',\n",
       " '2015',\n",
       " '2016',\n",
       " '2014',\n",
       " '2014',\n",
       " '2016',\n",
       " '2013',\n",
       " '2012',\n",
       " '2012',\n",
       " '2013',\n",
       " '2013',\n",
       " '2013',\n",
       " '2013',\n",
       " '2014',\n",
       " '2015',\n",
       " '2015',\n",
       " '2016',\n",
       " '2016',\n",
       " '2013',\n",
       " '2012',\n",
       " '2016',\n",
       " '2014',\n",
       " '2015',\n",
       " '2015',\n",
       " '2012',\n",
       " '2015',\n",
       " '2012',\n",
       " '2014',\n",
       " '2016',\n",
       " '2013',\n",
       " '2014',\n",
       " '2016',\n",
       " '2016',\n",
       " '2013',\n",
       " '2012',\n",
       " '2013',\n",
       " '2012',\n",
       " '2012',\n",
       " '2012',\n",
       " '2012',\n",
       " '2012',\n",
       " '2013',\n",
       " '2013',\n",
       " '2013',\n",
       " '2013',\n",
       " '2013',\n",
       " '2013',\n",
       " '2014',\n",
       " '2014',\n",
       " '2014',\n",
       " '2014',\n",
       " '2014',\n",
       " '2014',\n",
       " '2014',\n",
       " '2014',\n",
       " '2012',\n",
       " '2012',\n",
       " '2012',\n",
       " '2012',\n",
       " '2014',\n",
       " '2014',\n",
       " '2015',\n",
       " '2015',\n",
       " '2015',\n",
       " '2015',\n",
       " '2015',\n",
       " '2015',\n",
       " '2016',\n",
       " '2016',\n",
       " '2014',\n",
       " '2014',\n",
       " '2015',\n",
       " '2013',\n",
       " '2016',\n",
       " '2013',\n",
       " '2013',\n",
       " '2013',\n",
       " '2015',\n",
       " '2016',\n",
       " '2015',\n",
       " '2013']"
      ]
     },
     "execution_count": 23,
     "metadata": {},
     "output_type": "execute_result"
    }
   ],
   "source": [
    "# Read docs from outside US\n",
    "\n",
    "yearly_accidents = []\n",
    "\n",
    "for docs_path_countries in glob.glob(path_to_docs + '/*'):\n",
    "    \n",
    "    if  ('United States' in docs_path_countries) or ('US' in docs_path_countries):\n",
    "        print('US')\n",
    "    else:    \n",
    "        for json_file in glob.glob(docs_path_countries + '/*'):            \n",
    "            with open(json_file, 'r') as json_doc:\n",
    "                json_obj = json.loads(json_doc.read())\n",
    "                pub_date_str = json_obj['pub_date']\n",
    "                pub_datetime = datetime.strptime(pub_date_str[0:19], \"%Y-%m-%dT%H:%M:%S\")\n",
    "                year_number = pub_datetime.strftime(\"%Y\")\n",
    "                yearly_accidents.append(year_number)\n",
    "                \n",
    "                \n",
    "yearly_accidents        \n",
    "        \n"
   ]
  },
  {
   "cell_type": "code",
   "execution_count": null,
   "metadata": {
    "collapsed": true
   },
   "outputs": [],
   "source": []
  },
  {
   "cell_type": "code",
   "execution_count": null,
   "metadata": {
    "collapsed": true
   },
   "outputs": [],
   "source": []
  },
  {
   "cell_type": "code",
   "execution_count": null,
   "metadata": {
    "collapsed": true
   },
   "outputs": [],
   "source": []
  },
  {
   "cell_type": "code",
   "execution_count": null,
   "metadata": {
    "collapsed": true
   },
   "outputs": [],
   "source": []
  },
  {
   "cell_type": "code",
   "execution_count": null,
   "metadata": {
    "collapsed": true
   },
   "outputs": [],
   "source": [
    "\n",
    "# data to plot\n",
    "n_groups = 4\n",
    "means_frank = (90, 55, 40, 65)\n",
    "means_guido = (85, 62, 54, 20)\n",
    " \n",
    "# create plot\n",
    "fig, ax = plt.subplots()\n",
    "index = np.arange(n_groups)\n",
    "bar_width = 0.35\n",
    "opacity = 0.8\n",
    " \n",
    "rects1 = plt.bar(index, means_frank, bar_width,\n",
    "                 alpha=opacity,\n",
    "                 color='b',\n",
    "                 label='Frank')\n",
    " \n",
    "rects2 = plt.bar(index + bar_width, means_guido, bar_width,\n",
    "                 alpha=opacity,\n",
    "                 color='g',\n",
    "                 label='Guido')\n",
    " \n",
    "plt.xlabel('Person')\n",
    "plt.ylabel('Scores')\n",
    "plt.title('Scores by person')\n",
    "plt.xticks(index + bar_width, ('A', 'B', 'C', 'D'))\n",
    "plt.legend()\n",
    " \n",
    "plt.tight_layout()\n",
    "plt.show()"
   ]
  }
 ],
 "metadata": {
  "anaconda-cloud": {},
  "kernelspec": {
   "display_name": "Python [conda root]",
   "language": "python",
   "name": "conda-root-py"
  },
  "language_info": {
   "codemirror_mode": {
    "name": "ipython",
    "version": 3
   },
   "file_extension": ".py",
   "mimetype": "text/x-python",
   "name": "python",
   "nbconvert_exporter": "python",
   "pygments_lexer": "ipython3",
   "version": "3.5.2"
  }
 },
 "nbformat": 4,
 "nbformat_minor": 1
}
