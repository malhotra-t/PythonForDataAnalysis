{
 "cells": [
  {
   "cell_type": "markdown",
   "metadata": {},
   "source": [
    "## Road Accidents Analysis 1"
   ]
  },
  {
   "cell_type": "markdown",
   "metadata": {},
   "source": [
    "### Analyze the trend of accidents counts over the 'time period' across the globe"
   ]
  },
  {
   "cell_type": "markdown",
   "metadata": {},
   "source": [
    "#### Step 1: Import modules"
   ]
  },
  {
   "cell_type": "code",
   "execution_count": 1,
   "metadata": {
    "collapsed": false
   },
   "outputs": [],
   "source": [
    "import os\n",
    "import glob\n",
    "import json\n",
    "from datetime import datetime\n",
    "from collections import Counter\n"
   ]
  },
  {
   "cell_type": "markdown",
   "metadata": {},
   "source": [
    "#### Step 2: Read the data from json docs"
   ]
  },
  {
   "cell_type": "code",
   "execution_count": 2,
   "metadata": {
    "collapsed": false
   },
   "outputs": [],
   "source": [
    "# Path to the Accidents Dataset\n",
    "\n",
    "path_to_docs = os.getcwd() + '/../Data/Accidents'\n"
   ]
  },
  {
   "cell_type": "code",
   "execution_count": 3,
   "metadata": {
    "collapsed": false
   },
   "outputs": [
    {
     "name": "stdout",
     "output_type": "stream",
     "text": [
      "Yearly Accidents Count:\n",
      "\n",
      "year\t count\n",
      "('2012', 68)\n",
      "('2013', 28)\n",
      "('2014', 24)\n",
      "('2015', 29)\n",
      "('2016', 61)\n"
     ]
    }
   ],
   "source": [
    "\n",
    "yearly_accidents = []\n",
    "\n",
    "us_to_be_done = True\n",
    "for docs_path_countries in glob.glob(path_to_docs + '/*'):\n",
    "    \n",
    "    if  ('United States' in docs_path_countries) or ('US' in docs_path_countries):\n",
    "\n",
    "        # Read docs from inside US\n",
    "        if us_to_be_done:\n",
    "            us_to_be_done = False\n",
    "            for docs_path_states in glob.glob(path_to_docs + '/US/*'):\n",
    "                for json_file in glob.glob(docs_path_states + '/*'):            \n",
    "                    with open(json_file, 'r') as json_doc:\n",
    "                        json_obj = json.loads(json_doc.read())\n",
    "                        pub_date_str = json_obj['pub_date']\n",
    "                        pub_datetime = datetime.strptime(pub_date_str[0:19], \"%Y-%m-%dT%H:%M:%S\")\n",
    "                        year_number = pub_datetime.strftime(\"%Y\")\n",
    "                        yearly_accidents.append(year_number)\n",
    "                               \n",
    "    else:\n",
    "        # Read docs from outside US\n",
    "\n",
    "        for json_file in glob.glob(docs_path_countries + '/*'):            \n",
    "            with open(json_file, 'r') as json_doc:\n",
    "                json_obj = json.loads(json_doc.read())\n",
    "                pub_date_str = json_obj['pub_date']\n",
    "                pub_datetime = datetime.strptime(pub_date_str[0:19], \"%Y-%m-%dT%H:%M:%S\")\n",
    "                year_number = pub_datetime.strftime(\"%Y\")\n",
    "                yearly_accidents.append(year_number)\n",
    "                        \n",
    "wordcount = Counter(yearly_accidents)\n",
    "print('Yearly Accidents Count:\\n')\n",
    "print('year\\t','count')\n",
    "for i in sorted(wordcount.items(), key=lambda x:x[0]):\n",
    "    print(i)"
   ]
  },
  {
   "cell_type": "markdown",
   "metadata": {
    "collapsed": true
   },
   "source": [
    "> ### The no of accidents declined after 2012, but they are on the rise again. We need to be careful!"
   ]
  }
 ],
 "metadata": {
  "anaconda-cloud": {},
  "kernelspec": {
   "display_name": "Python [conda root]",
   "language": "python",
   "name": "conda-root-py"
  },
  "language_info": {
   "codemirror_mode": {
    "name": "ipython",
    "version": 3
   },
   "file_extension": ".py",
   "mimetype": "text/x-python",
   "name": "python",
   "nbconvert_exporter": "python",
   "pygments_lexer": "ipython3",
   "version": "3.5.2"
  }
 },
 "nbformat": 4,
 "nbformat_minor": 1
}
