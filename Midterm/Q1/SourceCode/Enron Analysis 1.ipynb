{
 "cells": [
  {
   "cell_type": "markdown",
   "metadata": {},
   "source": [
    "### Analysis1: Transition of power between important persons during 2 phases - Peak(2000) and Downfall(2001)"
   ]
  },
  {
   "cell_type": "markdown",
   "metadata": {},
   "source": [
    "#### Step 1: Import modules"
   ]
  },
  {
   "cell_type": "code",
   "execution_count": 1,
   "metadata": {
    "collapsed": true
   },
   "outputs": [],
   "source": [
    "from email.parser import Parser\n",
    "import glob\n",
    "import os\n",
    "import datetime"
   ]
  },
  {
   "cell_type": "markdown",
   "metadata": {},
   "source": [
    "#### Step 2: Identify directories"
   ]
  },
  {
   "cell_type": "code",
   "execution_count": 2,
   "metadata": {
    "collapsed": false
   },
   "outputs": [],
   "source": [
    "# Path to the Enron dataset\n",
    "path_to_maildir = 'C:/Users/parit/midterm/data/enron/maildir'"
   ]
  },
  {
   "cell_type": "code",
   "execution_count": 3,
   "metadata": {
    "collapsed": false
   },
   "outputs": [],
   "source": [
    "# Path to primary convicts mailboxes (Andrew Fastow's mailbox is not present in the dataset)\n",
    "path_to_kenneth_lay = path_to_maildir + '/lay-k'\n",
    "path_to_jeff_skilling = path_to_maildir + '/skilling-j'\n"
   ]
  },
  {
   "cell_type": "markdown",
   "metadata": {},
   "source": [
    "#### Step 3: Define processing logic"
   ]
  },
  {
   "cell_type": "code",
   "execution_count": 17,
   "metadata": {
    "collapsed": true
   },
   "outputs": [],
   "source": [
    "# Function to recursively read mails from folders and sub-folders\n",
    "def processEmails(path):\n",
    "    peak_mail_count = 0\n",
    "    dwnfall_mail_count = 0\n",
    "    inner_peak = 0\n",
    "    inner_dwnfall = 0\n",
    "    pathContent = glob.glob(path + '/*')    \n",
    "    for pathName in pathContent:\n",
    "        if os.path.isdir(pathName):    \n",
    "            (inner_peak, inner_dwnfall) = processEmails(pathName)\n",
    "            peak_mail_count = peak_mail_count+inner_peak\n",
    "            dwnfall_mail_count = dwnfall_mail_count+inner_dwnfall\n",
    "        else:\n",
    "            try:\n",
    "                with open(pathName, 'r') as filename:\n",
    "                    email = Parser().parsestr(filename.read())                    \n",
    "                    mail_date = email['date']\n",
    "                    mail_date = datetime.datetime.strptime(mail_date[:-6],\"%a, %d %b %Y %H:%M:%S %z\")\n",
    "                    if mail_date.year in range(1997,2001):\n",
    "                        peak_mail_count = peak_mail_count + 1\n",
    "                    elif mail_date.year == 2001:\n",
    "                        dwnfall_mail_count = dwnfall_mail_count + 1\n",
    "            except:\n",
    "                print('File open error due to foreign characters:', pathName)\n",
    "    return (peak_mail_count, dwnfall_mail_count)"
   ]
  },
  {
   "cell_type": "markdown",
   "metadata": {},
   "source": [
    "#### Step 4: Invoke email processing for Kenneth Lay"
   ]
  },
  {
   "cell_type": "code",
   "execution_count": 22,
   "metadata": {
    "collapsed": false
   },
   "outputs": [
    {
     "name": "stdout",
     "output_type": "stream",
     "text": [
      "The email traffice for Kenneth Lay in first phase: 3120\n",
      "While it reduced to 1490 due to transition of CEO duties to Jeff Shilling\n"
     ]
    }
   ],
   "source": [
    "# Invoke processEmails() for Kenneth Lay\n",
    "(before, after) = processEmails(path_to_kenneth_lay)\n",
    "print('The email traffice for Kenneth Lay in first phase:', before)\n",
    "print('While it reduced to', after, 'due to transition of CEO duties to Jeff Shilling')"
   ]
  },
  {
   "cell_type": "markdown",
   "metadata": {
    "collapsed": false
   },
   "source": [
    "#### Step 5: Invoke email processing for Jeff Skilling"
   ]
  },
  {
   "cell_type": "code",
   "execution_count": 23,
   "metadata": {
    "collapsed": false
   },
   "outputs": [
    {
     "name": "stdout",
     "output_type": "stream",
     "text": [
      "The email traffice for Jeff Shilling in first phase: 1419\n",
      "While it increased to 2712 due to transition of CEO duties to Jeff Shilling\n"
     ]
    }
   ],
   "source": [
    "# Invoke processEmails() for Jeff Skilling\n",
    "(before, after) = processEmails(path_to_jeff_skilling)\n",
    "print('The email traffice for Jeff Shilling in first phase:', before)\n",
    "print('While it increased to', after, 'due to transition of CEO duties to Jeff Shilling')"
   ]
  },
  {
   "cell_type": "markdown",
   "metadata": {},
   "source": [
    "### Conclusion for Analysis 1: "
   ]
  },
  {
   "cell_type": "markdown",
   "metadata": {
    "collapsed": true
   },
   "source": [
    "> The change of helms of Enron from Kenneth Lay to Jeff Shilling is clearly visible from the figures above"
   ]
  }
 ],
 "metadata": {
  "anaconda-cloud": {},
  "kernelspec": {
   "display_name": "Python [conda root]",
   "language": "python",
   "name": "conda-root-py"
  },
  "language_info": {
   "codemirror_mode": {
    "name": "ipython",
    "version": 3
   },
   "file_extension": ".py",
   "mimetype": "text/x-python",
   "name": "python",
   "nbconvert_exporter": "python",
   "pygments_lexer": "ipython3",
   "version": "3.5.2"
  }
 },
 "nbformat": 4,
 "nbformat_minor": 1
}
