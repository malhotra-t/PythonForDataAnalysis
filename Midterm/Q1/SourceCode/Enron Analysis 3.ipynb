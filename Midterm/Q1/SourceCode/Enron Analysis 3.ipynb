{
 "cells": [
  {
   "cell_type": "markdown",
   "metadata": {
    "collapsed": true
   },
   "source": [
    "## Analysis3: Identify key conversations related to Fraud and Corporate Crime by looking for specific keywords"
   ]
  },
  {
   "cell_type": "markdown",
   "metadata": {},
   "source": [
    "#### Step 0: Identify risky words"
   ]
  },
  {
   "cell_type": "code",
   "execution_count": 1,
   "metadata": {
    "collapsed": true
   },
   "outputs": [],
   "source": [
    "# A pool of words that are considered risky\n",
    "# because they were either associated with misleading financial statements\n",
    "# or they were associated with insider trading\n",
    "risky_words = ['bankruptcy', 'bankrupt', 'stocks', 'shares', 'audit', 'enrn', 'ene', 'nyse', 'nasdaq'\n",
    "               '401k', 'offshore', 'early', 'notice', 'billion', 'million', 'price', 'warning', \n",
    "              'overseas', 'international', 'mark-to-market', 'MTM', 'lawsuit', 'account', 'accounts',\n",
    "              'shareholder', 'shareholders', 'forum', 'violation']"
   ]
  },
  {
   "cell_type": "markdown",
   "metadata": {},
   "source": [
    "#### Step 1: Import modules"
   ]
  },
  {
   "cell_type": "code",
   "execution_count": 2,
   "metadata": {
    "collapsed": false
   },
   "outputs": [],
   "source": [
    "from email.parser import Parser\n",
    "import glob\n",
    "import os\n",
    "import datetime\n",
    "import traceback"
   ]
  },
  {
   "cell_type": "markdown",
   "metadata": {},
   "source": [
    "#### Step 2: Identify directories"
   ]
  },
  {
   "cell_type": "code",
   "execution_count": 3,
   "metadata": {
    "collapsed": true
   },
   "outputs": [],
   "source": [
    "# Path to the Enron dataset\n",
    "path_to_maildir = 'C:/Users/parit/midterm/data/enron/maildir'"
   ]
  },
  {
   "cell_type": "code",
   "execution_count": 4,
   "metadata": {
    "collapsed": true
   },
   "outputs": [],
   "source": [
    "# Path to primary convicts mailboxes (Andrew Fastow's mailbox is not present in the dataset)\n",
    "path_to_kenneth_lay = path_to_maildir + '/lay-k'\n",
    "path_to_jeff_skilling = path_to_maildir + '/skilling-j'\n"
   ]
  },
  {
   "cell_type": "markdown",
   "metadata": {},
   "source": [
    "#### Step 3: Define processing logic"
   ]
  },
  {
   "cell_type": "code",
   "execution_count": 5,
   "metadata": {
    "collapsed": true
   },
   "outputs": [],
   "source": [
    "# Function to recursively read mails from folders and sub-folders\n",
    "def processEmails(path):\n",
    "    peak_mail_words = []\n",
    "    dwnfall_mail_words = []\n",
    "    inner_peak = []\n",
    "    inner_dwnfall = []\n",
    "    pathContent = glob.glob(path + '/*')    \n",
    "    for pathName in pathContent:\n",
    "        if os.path.isdir(pathName):    \n",
    "            (inner_peak, inner_dwnfall) = processEmails(pathName)\n",
    "            peak_mail_words = peak_mail_words + inner_peak\n",
    "            dwnfall_mail_words = dwnfall_mail_words + inner_dwnfall\n",
    "        else:\n",
    "            try:\n",
    "                with open(pathName, 'r') as filename:\n",
    "                    email = Parser().parsestr(filename.read())                    \n",
    "                    mail_date = email['date']\n",
    "                    mail_subject = email['subject'].split()\n",
    "                    mail_content = email.get_payload().split()                    \n",
    "                    mail_words = mail_content + mail_subject\n",
    "                    mail_date = datetime.datetime.strptime(mail_date[:-6],\"%a, %d %b %Y %H:%M:%S %z\")\n",
    "                    if mail_date.year in range(1997,2001):                        \n",
    "                        peak_mail_words = [r for r in mail_words if str.lower(r) in risky_words]\n",
    "                    elif mail_date.year == 2001:\n",
    "                        dwnfall_mail_words = [r for r in mail_words if str.lower(r) in risky_words]\n",
    "            except:\n",
    "                traceback.print_exc()\n",
    "                #print('File open error due to foreign characters:', pathName)\n",
    "    return (peak_mail_words, dwnfall_mail_words)"
   ]
  },
  {
   "cell_type": "markdown",
   "metadata": {},
   "source": [
    "#### Step 4: Invoke email processing for Kenneth Lay"
   ]
  },
  {
   "cell_type": "code",
   "execution_count": 6,
   "metadata": {
    "collapsed": false
   },
   "outputs": [
    {
     "name": "stdout",
     "output_type": "stream",
     "text": [
      "Risky words for Kenneth Lay in first phase: ['price', 'price', 'million', 'forum', 'early', 'early', 'million', 'account', 'million', 'million', 'million']\n",
      "Risky words for Kenneth Lay in second phase: ['International', 'price', 'Price', 'price', 'price', 'price', 'price', 'price', 'bankruptcy', 'bankruptcy', 'bankruptcy', 'bankruptcy', 'price']\n"
     ]
    }
   ],
   "source": [
    "# Invoke processEmails() for Kenneth Lay\n",
    "(before, after) = processEmails(path_to_kenneth_lay)\n",
    "print('Risky words for Kenneth Lay in first phase:', before)\n",
    "print('Risky words for Kenneth Lay in second phase:', after)"
   ]
  },
  {
   "cell_type": "markdown",
   "metadata": {},
   "source": [
    "#### Step 5: Invoke email processing for Jeff Skilling\n"
   ]
  },
  {
   "cell_type": "code",
   "execution_count": 7,
   "metadata": {
    "collapsed": false
   },
   "outputs": [
    {
     "name": "stdout",
     "output_type": "stream",
     "text": [
      "Risky words for Jeff Skilling in first phase: ['million']\n",
      "Risky words for Jeff Skilling in second phase: ['international', 'INTERNATIONAL', 'International', 'FORUM', 'forum']\n"
     ]
    }
   ],
   "source": [
    "# Invoke processEmails() for Jeff Skilling\n",
    "(before, after) = processEmails(path_to_jeff_skilling)\n",
    "print('Risky words for Jeff Skilling in first phase:', before)\n",
    "print('Risky words for Jeff Skilling in second phase:', after)"
   ]
  },
  {
   "cell_type": "markdown",
   "metadata": {},
   "source": [
    "### Conclusion for Analysis 3: "
   ]
  },
  {
   "cell_type": "markdown",
   "metadata": {},
   "source": [
    "> Judging by the participation levels of Kenneth Lay during both phases, we can say that he was the central piece to the whole puzzle. While Jeff Skilling was primarily involved in spreading fraudulent activities outside of the US."
   ]
  }
 ],
 "metadata": {
  "anaconda-cloud": {},
  "kernelspec": {
   "display_name": "Python [conda root]",
   "language": "python",
   "name": "conda-root-py"
  },
  "language_info": {
   "codemirror_mode": {
    "name": "ipython",
    "version": 3
   },
   "file_extension": ".py",
   "mimetype": "text/x-python",
   "name": "python",
   "nbconvert_exporter": "python",
   "pygments_lexer": "ipython3",
   "version": "3.5.2"
  }
 },
 "nbformat": 4,
 "nbformat_minor": 1
}
