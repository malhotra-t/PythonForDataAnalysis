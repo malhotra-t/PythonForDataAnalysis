{
 "cells": [
  {
   "cell_type": "markdown",
   "metadata": {},
   "source": [
    "## Q7 Use Name corpus, calculate the probability of a name being of a male or female base on the last character(s) of name."
   ]
  },
  {
   "cell_type": "code",
   "execution_count": 1,
   "metadata": {
    "collapsed": true
   },
   "outputs": [],
   "source": [
    "from nltk.corpus import names\n",
    "import string"
   ]
  },
  {
   "cell_type": "code",
   "execution_count": 7,
   "metadata": {
    "collapsed": false
   },
   "outputs": [
    {
     "name": "stdout",
     "output_type": "stream",
     "text": [
      "a Male percentage: 1.61 Female percentage: 98.39\n",
      "b Male percentage: 70.00 Female percentage: 30.00\n",
      "c Male percentage: 100.00 Female percentage: 0.00\n",
      "d Male percentage: 85.39 Female percentage: 14.61\n",
      "e Male percentage: 24.63 Female percentage: 75.37\n",
      "f Male percentage: 92.59 Female percentage: 7.41\n",
      "g Male percentage: 76.19 Female percentage: 23.81\n",
      "h Male percentage: 46.97 Female percentage: 53.03\n",
      "i Male percentage: 13.62 Female percentage: 86.38\n",
      "j Male percentage: 75.00 Female percentage: 25.00\n",
      "k Male percentage: 95.83 Female percentage: 4.17\n",
      "l Male percentage: 51.09 Female percentage: 48.91\n",
      "m Male percentage: 84.34 Female percentage: 15.66\n",
      "n Male percentage: 55.32 Female percentage: 44.68\n",
      "o Male percentage: 83.33 Female percentage: 16.67\n",
      "p Male percentage: 90.00 Female percentage: 10.00\n"
     ]
    },
    {
     "ename": "ZeroDivisionError",
     "evalue": "division by zero",
     "output_type": "error",
     "traceback": [
      "\u001b[0;31m---------------------------------------------------------------------------\u001b[0m",
      "\u001b[0;31mZeroDivisionError\u001b[0m                         Traceback (most recent call last)",
      "\u001b[0;32m<ipython-input-7-2f77ad94ebbb>\u001b[0m in \u001b[0;36m<module>\u001b[0;34m()\u001b[0m\n\u001b[1;32m     11\u001b[0m             \u001b[0mfemaleCount\u001b[0m \u001b[1;33m=\u001b[0m \u001b[0mfemaleCount\u001b[0m \u001b[1;33m+\u001b[0m \u001b[1;36m1\u001b[0m\u001b[1;33m\u001b[0m\u001b[0m\n\u001b[1;32m     12\u001b[0m     \u001b[0mtotalCount\u001b[0m \u001b[1;33m=\u001b[0m \u001b[0mmaleCount\u001b[0m \u001b[1;33m+\u001b[0m \u001b[0mfemaleCount\u001b[0m\u001b[1;33m\u001b[0m\u001b[0m\n\u001b[0;32m---> 13\u001b[0;31m     \u001b[0mprint\u001b[0m\u001b[1;33m(\u001b[0m\u001b[0mchar\u001b[0m\u001b[1;33m,\u001b[0m \u001b[1;34m'Male percentage:'\u001b[0m\u001b[1;33m,\u001b[0m \u001b[1;34m\"{0:.2f}\"\u001b[0m\u001b[1;33m.\u001b[0m\u001b[0mformat\u001b[0m\u001b[1;33m(\u001b[0m\u001b[1;36m100\u001b[0m\u001b[1;33m*\u001b[0m\u001b[0mmaleCount\u001b[0m\u001b[1;33m/\u001b[0m\u001b[0mtotalCount\u001b[0m\u001b[1;33m)\u001b[0m\u001b[1;33m,\u001b[0m \u001b[1;34m'Female percentage:'\u001b[0m\u001b[1;33m,\u001b[0m \u001b[1;34m\"{0:.2f}\"\u001b[0m\u001b[1;33m.\u001b[0m\u001b[0mformat\u001b[0m\u001b[1;33m(\u001b[0m\u001b[1;36m100\u001b[0m\u001b[1;33m*\u001b[0m\u001b[0mfemaleCount\u001b[0m\u001b[1;33m/\u001b[0m\u001b[0mtotalCount\u001b[0m\u001b[1;33m)\u001b[0m\u001b[1;33m)\u001b[0m\u001b[1;33m\u001b[0m\u001b[0m\n\u001b[0m",
      "\u001b[0;31mZeroDivisionError\u001b[0m: division by zero"
     ]
    }
   ],
   "source": [
    "maleNames = names.words('male.txt')\n",
    "femaleNames = names.words('female.txt')\n",
    "for char in string.ascii_lowercase:\n",
    "    maleCount = 0\n",
    "    femaleCount = 0\n",
    "    for word in maleNames:\n",
    "        if word[-1] == char:\n",
    "            maleCount = maleCount + 1\n",
    "    for word in femaleNames:\n",
    "        if word[-1] == char:\n",
    "            femaleCount = femaleCount + 1\n",
    "    totalCount = maleCount + femaleCount\n",
    "    print(char, 'Male percentage:', \"{0:.2f}\".format(100*maleCount/totalCount), 'Female percentage:', \"{0:.2f}\".format(100*femaleCount/totalCount))"
   ]
  },
  {
   "cell_type": "code",
   "execution_count": null,
   "metadata": {
    "collapsed": true
   },
   "outputs": [],
   "source": [
    "for char in "
   ]
  }
 ],
 "metadata": {
  "anaconda-cloud": {},
  "kernelspec": {
   "display_name": "Python [conda root]",
   "language": "python",
   "name": "conda-root-py"
  },
  "language_info": {
   "codemirror_mode": {
    "name": "ipython",
    "version": 3
   },
   "file_extension": ".py",
   "mimetype": "text/x-python",
   "name": "python",
   "nbconvert_exporter": "python",
   "pygments_lexer": "ipython3",
   "version": "3.5.2"
  }
 },
 "nbformat": 4,
 "nbformat_minor": 1
}
