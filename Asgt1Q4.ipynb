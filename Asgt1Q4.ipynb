{
 "cells": [
  {
   "cell_type": "markdown",
   "metadata": {},
   "source": [
    "## Q4"
   ]
  },
  {
   "cell_type": "code",
   "execution_count": 1,
   "metadata": {
    "collapsed": true
   },
   "outputs": [],
   "source": [
    "from nltk.corpus import nps_chat"
   ]
  },
  {
   "cell_type": "markdown",
   "metadata": {},
   "source": [
    "### Under package nps_chat, see what files are in it."
   ]
  },
  {
   "cell_type": "code",
   "execution_count": 2,
   "metadata": {
    "collapsed": false
   },
   "outputs": [
    {
     "name": "stdout",
     "output_type": "stream",
     "text": [
      "The files under package Webtext are listed below:\n",
      "\n"
     ]
    },
    {
     "data": {
      "text/plain": [
       "['10-19-20s_706posts.xml',\n",
       " '10-19-30s_705posts.xml',\n",
       " '10-19-40s_686posts.xml',\n",
       " '10-19-adults_706posts.xml',\n",
       " '10-24-40s_706posts.xml',\n",
       " '10-26-teens_706posts.xml',\n",
       " '11-06-adults_706posts.xml',\n",
       " '11-08-20s_705posts.xml',\n",
       " '11-08-40s_706posts.xml',\n",
       " '11-08-adults_705posts.xml',\n",
       " '11-08-teens_706posts.xml',\n",
       " '11-09-20s_706posts.xml',\n",
       " '11-09-40s_706posts.xml',\n",
       " '11-09-adults_706posts.xml',\n",
       " '11-09-teens_706posts.xml']"
      ]
     },
     "execution_count": 2,
     "metadata": {},
     "output_type": "execute_result"
    }
   ],
   "source": [
    "print('The files under package Webtext are listed below:\\n')\n",
    "nps_chat.fileids()"
   ]
  },
  {
   "cell_type": "markdown",
   "metadata": {},
   "source": [
    "### Find 'user121' and see how many posts he posted in all."
   ]
  },
  {
   "cell_type": "code",
   "execution_count": 4,
   "metadata": {
    "collapsed": false
   },
   "outputs": [
    {
     "name": "stdout",
     "output_type": "stream",
     "text": [
      "Total number of posts by User121 are: 132\n"
     ]
    }
   ],
   "source": [
    "allPosts = nps_chat.xml_posts()\n",
    "userPostCount = 0\n",
    "for post in allPosts:\n",
    "    if post.get('user').endswith('User121'):\n",
    "        userPostCount = userPostCount + 1\n",
    "print('Total number of posts by User121 are:', userPostCount)"
   ]
  },
  {
   "cell_type": "markdown",
   "metadata": {},
   "source": [
    "### Find out how many unique user in each age range group. (20s, 30s,...)(Hint: files' name)"
   ]
  },
  {
   "cell_type": "code",
   "execution_count": 8,
   "metadata": {
    "collapsed": false
   },
   "outputs": [
    {
     "name": "stdout",
     "output_type": "stream",
     "text": [
      "Total number of teenage users: 443\n",
      "Total number of 20s users: 305\n",
      "Total number of 30s users: 44\n",
      "Total number of 40s users: 228\n",
      "Total number of adult users: 357\n"
     ]
    }
   ],
   "source": [
    "fileList = nps_chat.fileids()\n",
    "uniqueUserCount = 0\n",
    "teenUserCount = 0\n",
    "twentyUserCount = 0\n",
    "thirtyUserCount = 0\n",
    "fortyUserCount = 0\n",
    "adultUserCount = 0\n",
    "\n",
    "for eachFile in fileList:\n",
    "    posts = nps_chat.xml_posts(eachFile)\n",
    "    uniqueUserCount = len(set([post.get('user') for post in posts]))\n",
    "    if 'teens' in eachFile:\n",
    "        teenUserCount = teenUserCount + uniqueUserCount\n",
    "    elif '20s' in eachFile:\n",
    "        twentyUserCount = twentyUserCount + uniqueUserCount\n",
    "    elif '30s' in eachFile:\n",
    "        thirtyUserCount = thirtyUserCount + uniqueUserCount\n",
    "    elif '40s' in eachFile:\n",
    "        fortyUserCount = fortyUserCount + uniqueUserCount\n",
    "    elif 'adults' in eachFile:\n",
    "        adultUserCount = adultUserCount + uniqueUserCount\n",
    "\n",
    "print('Total number of teenage users:', teenUserCount)\n",
    "print('Total number of 20s users:', twentyUserCount)\n",
    "print('Total number of 30s users:', thirtyUserCount)\n",
    "print('Total number of 40s users:', fortyUserCount)\n",
    "print('Total number of adult users:', adultUserCount)"
   ]
  },
  {
   "cell_type": "code",
   "execution_count": null,
   "metadata": {
    "collapsed": true
   },
   "outputs": [],
   "source": []
  }
 ],
 "metadata": {
  "kernelspec": {
   "display_name": "Python [conda root]",
   "language": "python",
   "name": "conda-root-py"
  },
  "language_info": {
   "codemirror_mode": {
    "name": "ipython",
    "version": 3
   },
   "file_extension": ".py",
   "mimetype": "text/x-python",
   "name": "python",
   "nbconvert_exporter": "python",
   "pygments_lexer": "ipython3",
   "version": "3.5.2"
  }
 },
 "nbformat": 4,
 "nbformat_minor": 1
}
